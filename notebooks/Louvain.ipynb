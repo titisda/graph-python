{
 "cells": [
  {
   "cell_type": "code",
   "execution_count": null,
   "metadata": {},
   "outputs": [],
   "source": [
    "import random\n",
    "import numpy as np\n",
    "import pandas as pd\n",
    "import networkx as nx\n",
    "import matplotlib.pyplot as plt\n",
    "from collections import namedtuple\n",
    "from scipy.sparse import csr_matrix\n",
    "import grblas\n",
    "grblas.init('suitesparse')\n",
    "from grblas import Matrix, Vector\n",
    "from grblas import descriptor\n",
    "from grblas import UnaryOp, BinaryOp, Monoid, Semiring"
   ]
  },
  {
   "cell_type": "code",
   "execution_count": null,
   "metadata": {},
   "outputs": [],
   "source": [
    "def vrepr(v):\n",
    "    df = pd.DataFrame(index=range(v.size), columns=[''])\n",
    "    for i, val in zip(*v.to_values()):\n",
    "        df.iloc[i] = val\n",
    "    return df.where(pd.notnull(df), '')\n",
    "\n",
    "def hrepr(v):\n",
    "    return vrepr(v).T\n",
    "\n",
    "def mrepr(m):\n",
    "    df = pd.DataFrame(columns=range(m.ncols), index=range(m.nrows))\n",
    "    for i, j, val in zip(*m.to_values()):\n",
    "        df.iloc[i, j] = val\n",
    "    return df.where(pd.notnull(df), '')\n",
    "\n",
    "def draw(m):\n",
    "    g = nx.DiGraph()\n",
    "    for row, col, val in zip(*m.to_values()):\n",
    "        g.add_edge(row, col, weight=val)\n",
    "    pos = nx.spring_layout(g)\n",
    "    edge_labels = {(i, j): d['weight'] for i, j, d in g.edges(data=True)}\n",
    "    nx.draw_networkx(g, pos, node_color='red', node_size=500)\n",
    "    nx.draw_networkx_edge_labels(g, pos, edge_labels=edge_labels)"
   ]
  },
  {
   "cell_type": "code",
   "execution_count": null,
   "metadata": {},
   "outputs": [],
   "source": [
    "def adj_matrix_to_grblas(m, dtype=grblas.dtypes.FP64):\n",
    "    ss = csr_matrix(m)\n",
    "    nrows, ncols = ss.shape\n",
    "    rows, cols = ss.nonzero()\n",
    "    g = grblas.Matrix.new_from_values(rows, cols, ss.data, nrows=nrows, ncols=ncols, dtype=dtype)\n",
    "    return g\n",
    "\n",
    "def nxgraph_to_grblas(G, dtype=grblas.dtypes.FP64):\n",
    "    ss = nx.convert_matrix.to_scipy_sparse_matrix(G)\n",
    "    nrows, ncols = ss.shape\n",
    "    rows, cols = ss.nonzero()\n",
    "    g = grblas.Matrix.new_from_values(rows, cols, ss.data, nrows=nrows, ncols=ncols, dtype=dtype)\n",
    "    return g"
   ]
  },
  {
   "cell_type": "markdown",
   "metadata": {},
   "source": [
    "# Louvain Community Detection\n",
    "\n",
    "https://en.wikipedia.org/wiki/Louvain_modularity\n",
    "\n",
    "This will return a list of progressively smaller graphs, sort of like zooming out in a map and having houses collapse into a neighborhood and neighborhoods collapse into cities"
   ]
  },
  {
   "cell_type": "code",
   "execution_count": null,
   "metadata": {},
   "outputs": [],
   "source": [
    "class AdjMatrix:\n",
    "    def __init__(self, adj):\n",
    "        # Pre-define memory needed by GraphBLAS computations\n",
    "        nn = adj.nrows\n",
    "        nc = nn + 1  # comms should always be (n+1 x n)\n",
    "        self.adj = adj\n",
    "        self.nn = nn\n",
    "        self.nc = nc\n",
    "        self.total_links_doubled = adj.reduce_scalar(grblas.Monoid.PLUS).new()\n",
    "        self.community_tmp = grblas.Matrix.new_from_type(adj.dtype, nrows=nc, ncols=nn)\n",
    "        self.community = grblas.Matrix.new_from_type(adj.dtype, nrows=nc, ncols=nc)\n",
    "        self.diag_mask = grblas.Matrix.new_from_values(range(nc), range(nc), [True]*nc, nrows=nc, ncols=nc, dtype=grblas.dtypes.BOOL)\n",
    "        self.diag_matrix = grblas.Matrix.new_from_type(adj.dtype, nrows=nc, ncols=nc)\n",
    "        self.diag_vector = grblas.Vector.new_from_type(adj.dtype, size=nc)\n",
    "        self.modularity = grblas.Vector.new_from_type(adj.dtype, size=nc)\n",
    "        self.stored_community = grblas.Vector.new_from_type(grblas.dtypes.INT64, size=nc)\n",
    "        self.beyond_last_index = nn\n",
    "        self.beyond_last = grblas.Vector.new_from_values([self.beyond_last_index], [1], size=nc)\n",
    "        self.ki_all = grblas.Vector.new_from_type(adj.dtype, size=nn)\n",
    "        self.ki_all[:] = adj.reduce_columns(grblas.Monoid.PLUS)\n",
    "        self.sigma_total = grblas.Vector.new_from_type(adj.dtype, size=nc)\n",
    "        self.ki_in = grblas.Vector.new_from_type(grblas.dtypes.FP64, size=nc)\n",
    "        self.max_modularity_delta = grblas.Scalar.new_from_type(adj.dtype)\n",
    "        self.max_mask = grblas.Vector.new_from_type(adj.dtype, size=nc)  # TODO: change this once we have v1.3 implemented\n",
    "        self._ident_comms = None\n",
    "        \n",
    "    def _get_comms_identity(self):\n",
    "        # Build the identity matrix, assigning each node to its own community\n",
    "        if self._ident_comms is None:\n",
    "            nn, nc = self.nn, self.nc\n",
    "            self._ident_comms = grblas.Matrix.new_from_values(range(nn), range(nn), [1]*nn, nrows=nc, ncols=nn)\n",
    "        return self._ident_comms\n",
    "    \n",
    "    def compute_modularity(self, comms=None):\n",
    "        \"\"\"\n",
    "        Given adjacency matrix (nxn) and community matrix (cxn), compute the modularity metric\n",
    "        \"\"\"\n",
    "        adj = self.adj\n",
    "        if comms is None:\n",
    "            comms = self._get_comms_identity()\n",
    "\n",
    "        community = self.community\n",
    "        modularity = self.modularity\n",
    "            \n",
    "        self.community_tmp[:] = comms.mxm(adj)\n",
    "        community[:] = self.community_tmp.mxm(comms.T)\n",
    "        self.diag_matrix[self.diag_mask] = community\n",
    "        self.diag_vector[:] = self.diag_matrix.reduce_columns()  # Aij\n",
    "        modularity[:] = community.reduce_columns(grblas.BinaryOp.PLUS)  # ki\n",
    "        modularity[:] = modularity.ewise_mult(modularity, grblas.BinaryOp.TIMES)  # ki^2\n",
    "        modularity.assign[modularity, grblas.BinaryOp.DIV] = self.total_links_doubled  # ki^2/2m\n",
    "        modularity.assign[modularity, grblas.BinaryOp.TIMES] = -1  # -ki^2\n",
    "        modularity[:] = self.diag_vector.ewise_add(modularity, grblas.BinaryOp.PLUS)  # Aij - ki^2/2m\n",
    "        modularity.assign[modularity, grblas.BinaryOp.DIV] = self.total_links_doubled  # (Aij - ki^2/2m) / 2m\n",
    "        result = modularity.reduce(grblas.Monoid.PLUS).new()  # (1/2m)*sum(Aij - ki^2/2m)\n",
    "\n",
    "        return result\n",
    "\n",
    "    def find_best_community(self, node, comms):\n",
    "        \"\"\"\n",
    "        Updates comms (community grouping) for node to reach max modularity\n",
    "        Returns True if node changed community. False otherwise.\n",
    "        \"\"\"\n",
    "        adj = self.adj\n",
    "        nc = self.nc\n",
    "        community = self.community\n",
    "        sigma_total = self.sigma_total\n",
    "        # Save current modularity score in current community\n",
    "        self.stored_community[:] = comms.extract[:, node]\n",
    "        current_community_index = next(self.stored_community.to_values()[0])\n",
    "        orig_modularity_score = self.compute_modularity(comms)\n",
    "\n",
    "        # Move node to its own community\n",
    "        comms.assign[:, node] = self.beyond_last\n",
    "        baseline_modularity_score = self.compute_modularity(comms)\n",
    "\n",
    "        # Compute modularity improvements for each neighbor\n",
    "        total_links_doubled = self.total_links_doubled.value\n",
    "        ki = self.ki_all.element[node]\n",
    "        self.community_tmp[:] = comms.mxm(adj)\n",
    "        community[:] = self.community_tmp.mxm(comms.T)\n",
    "        sigma_total[:] = community.reduce_columns(grblas.Monoid.PLUS)\n",
    "        self.ki_in[~self.beyond_last, grblas.REPLACE] = self.beyond_last.vxm(community)\n",
    "        # delta = 2*ki_in/total_links_doubled - 2*sigma_total*ki/total_links_doubled^2\n",
    "        delta = self.ki_in\n",
    "        delta.assign[delta, grblas.BinaryOp.TIMES] = 2/total_links_doubled\n",
    "        sigma_total.assign[sigma_total, grblas.BinaryOp.TIMES] = -2*ki/total_links_doubled**2\n",
    "        delta[:] = delta.ewise_mult(sigma_total, grblas.BinaryOp.PLUS)\n",
    "\n",
    "        # Choose best neighbor\n",
    "        max_modularity_delta = self.max_modularity_delta\n",
    "        max_modularity_delta[:] = delta.reduce(grblas.Monoid.MAX)\n",
    "\n",
    "        # If modularity is improved, update comms and return True\n",
    "        if max_modularity_delta.value > orig_modularity_score.value - baseline_modularity_score.value:\n",
    "            self.max_mask[:] = delta\n",
    "            self.max_mask.assign[self.max_mask, grblas.BinaryOp.EQ] = max_modularity_delta\n",
    "            delta[self.max_mask, grblas.REPLACE] = delta  # eliminate all but the max value(s)\n",
    "            indexes, vals = delta.to_values()\n",
    "            best_community_index = next(indexes)\n",
    "            # Guard against reassigning a node to its existing community\n",
    "            if best_community_index != current_community_index and best_community_index != self.beyond_last_index:\n",
    "                self.stored_community[:] = comms.extract[:, best_community_index]\n",
    "                comms.assign[:, node] = self.stored_community\n",
    "                return True\n",
    "\n",
    "        # If modularity isn't improved, reset and return False\n",
    "        comms.assign[:, node] = self.stored_community\n",
    "        return False\n",
    "\n",
    "    def optimize_communities(self, max_iter=20):\n",
    "        \"\"\"\n",
    "        Given an adjacency matrix `adj`, returns a compact community mapping of size cxn\n",
    "        where c is the number of communities and n is the number of nodes in the graph (i.e. adj is nxn)\n",
    "        The community mapping is done by repeatedly iterating over the nodes one by one\n",
    "        to find the best community (defined as maximizing the modularity).\n",
    "        Once an full pass over the nodes yields no changes, this will return.\n",
    "        If max_iter is reached, it will also return.\n",
    "        \"\"\"\n",
    "        adj = self.adj\n",
    "        comms = grblas.Matrix.new_from_existing(self._get_comms_identity())\n",
    "        for i_iter in range(max_iter):\n",
    "            nodes = list(range(self.nn))\n",
    "            random.shuffle(nodes)\n",
    "            comms_modified = False\n",
    "            for node in nodes:\n",
    "                node_moved = self.find_best_community(node, comms)\n",
    "                if node_moved:\n",
    "                    comms_modified = True\n",
    "            if not comms_modified:\n",
    "                break\n",
    "\n",
    "        # Compact comms\n",
    "        rows, cols, vals = comms.to_values()\n",
    "        nonzero_rows = list(sorted(set(rows)))\n",
    "        compact_comms = grblas.Matrix.new_from_type(comms.dtype, nrows=len(nonzero_rows), ncols=self.nn)\n",
    "        compact_comms[:] = comms.extract[nonzero_rows, :]\n",
    "\n",
    "        return compact_comms"
   ]
  },
  {
   "cell_type": "markdown",
   "metadata": {},
   "source": [
    "### General note about spec v1.2\n",
    "\n",
    "We really need v\\[:] = v.apply(grblas.BinaryOp.TIMES, right=2)\n",
    "\n",
    "We can spell it like this:\n",
    "v.assign\\[v, grblas.BinaryOp.TIMES] = 2\n",
    "\n",
    "But that requires itself as a mask and doesn't allow for the dtype to change.\n",
    "\n",
    "For example, this is impossible:\n",
    "w = grblas.Vector.new_from_type(grblas.dtypes.BOOL, v.size)\n",
    "w[:] = v.apply(grblas.BinaryOp.EQ, right=2.7)"
   ]
  },
  {
   "cell_type": "code",
   "execution_count": null,
   "metadata": {},
   "outputs": [],
   "source": [
    "LouvainResult = namedtuple('LouvainResult', ['adj', 'cmap', 'modscore'])\n",
    "\n",
    "def louvain_levels(adj, max_iter=20):\n",
    "    \"\"\"\n",
    "    Returns a list of LouvainResult -- a namedtuple with\n",
    "    - adj: adjacency matrix\n",
    "    - cmap: community map matrix\n",
    "    - modscore: modularity score\n",
    "    Each item in the returned list represents one pass through the Louvain community detection algorithm.\n",
    "    The size of the adjacency matrix should shrink while the modularity score should increase.\n",
    "    \"\"\"\n",
    "    results = []\n",
    "    adj = AdjMatrix(adj)\n",
    "    while True:\n",
    "        modscore = adj.compute_modularity()\n",
    "        comms = adj.optimize_communities(max_iter)\n",
    "        results.append(LouvainResult(adj.adj, comms, modscore))\n",
    "        # Exit criteria: number of communities did not decrease\n",
    "        if comms.nrows >= adj.nn:\n",
    "            break\n",
    "        # Compress the adjacency graph\n",
    "        nc = comms.nrows\n",
    "        prev_adj = adj.adj\n",
    "        adj_tmp = grblas.Matrix.new_from_type(prev_adj.dtype, nrows=nc, ncols=prev_adj.nrows)\n",
    "        adj = grblas.Matrix.new_from_type(prev_adj.dtype, nrows=nc, ncols=nc)\n",
    "        adj_tmp[:] = comms.mxm(prev_adj)\n",
    "        adj[:] = adj_tmp.mxm(comms.T)\n",
    "        adj = AdjMatrix(adj)\n",
    "        \n",
    "    return results"
   ]
  },
  {
   "cell_type": "code",
   "execution_count": null,
   "metadata": {},
   "outputs": [],
   "source": []
  },
  {
   "cell_type": "markdown",
   "metadata": {},
   "source": [
    "## Example\n",
    "\n",
    "- Nodes 0, 1, 3, 4 are fully connected\n",
    "- Nodes 2, 5, 6 are fully connected\n",
    "- There is a single connection between nodes 2 and 4 to connect the two groups\n",
    "- All edges have a weight of 1"
   ]
  },
  {
   "cell_type": "code",
   "execution_count": null,
   "metadata": {},
   "outputs": [],
   "source": [
    "m = np.array([[0,1,0,1,1,0,0],\n",
    "              [1,0,0,1,1,0,0],\n",
    "              [0,0,0,0,1,1,1],\n",
    "              [1,1,0,0,1,0,0],\n",
    "              [1,1,1,1,0,0,0],\n",
    "              [0,0,1,0,0,0,1],\n",
    "              [0,0,1,0,0,1,0]])\n",
    "g = adj_matrix_to_grblas(m)"
   ]
  },
  {
   "cell_type": "code",
   "execution_count": null,
   "metadata": {},
   "outputs": [],
   "source": [
    "l = louvain_levels(g)\n",
    "l"
   ]
  },
  {
   "cell_type": "code",
   "execution_count": null,
   "metadata": {},
   "outputs": [],
   "source": [
    "mrepr(l[1].adj)"
   ]
  },
  {
   "cell_type": "code",
   "execution_count": null,
   "metadata": {},
   "outputs": [],
   "source": [
    "mrepr(l[0].cmap)"
   ]
  },
  {
   "cell_type": "code",
   "execution_count": null,
   "metadata": {},
   "outputs": [],
   "source": []
  },
  {
   "cell_type": "markdown",
   "metadata": {},
   "source": [
    "## Example\n",
    "\n",
    "https://neo4j.com/docs/graph-algorithms/current/algorithms/louvain/#algorithms-louvain-examples-stream-intermediate\n",
    "\n",
    "If the results don't match the website's clustering, try re-running."
   ]
  },
  {
   "cell_type": "code",
   "execution_count": null,
   "metadata": {},
   "outputs": [],
   "source": [
    "m = [\n",
    "[0,1,0,1,0,1,0,0,0,0,0,0,0,0,0],\n",
    "[1,0,0,1,1,0,1,0,0,0,0,0,0,0,1],\n",
    "[0,0,0,0,0,1,0,0,0,0,0,0,0,0,1],\n",
    "[1,1,0,0,0,0,0,0,0,0,1,0,0,0,0],\n",
    "[0,1,0,0,0,1,0,1,0,0,0,0,0,0,1],\n",
    "[1,0,1,0,1,0,1,0,0,0,0,0,0,0,0],\n",
    "[0,1,0,0,0,1,0,1,0,0,0,0,0,0,0],\n",
    "[0,0,0,0,1,0,1,0,1,1,0,0,0,0,0],\n",
    "[0,0,0,0,0,0,0,1,0,0,1,0,0,0,0],\n",
    "[0,0,0,0,0,0,0,1,0,0,1,0,1,1,0],\n",
    "[0,0,0,1,0,0,0,0,1,1,0,1,1,0,0],\n",
    "[0,0,0,0,0,0,0,0,0,0,1,0,0,1,0],\n",
    "[0,0,0,0,0,0,0,0,0,1,1,0,0,1,0],\n",
    "[0,0,0,0,0,0,0,0,0,1,0,1,1,0,0],\n",
    "[0,1,1,0,1,0,0,0,0,0,0,0,0,0,0],\n",
    "]\n",
    "g = adj_matrix_to_grblas(m)"
   ]
  },
  {
   "cell_type": "code",
   "execution_count": null,
   "metadata": {},
   "outputs": [],
   "source": [
    "l = louvain_levels(g)\n",
    "l"
   ]
  },
  {
   "cell_type": "code",
   "execution_count": null,
   "metadata": {},
   "outputs": [],
   "source": [
    "mrepr(l[0].cmap)"
   ]
  },
  {
   "cell_type": "code",
   "execution_count": null,
   "metadata": {},
   "outputs": [],
   "source": [
    "mrepr(l[1].adj)"
   ]
  },
  {
   "cell_type": "code",
   "execution_count": null,
   "metadata": {},
   "outputs": [],
   "source": [
    "mrepr(l[1].cmap)"
   ]
  },
  {
   "cell_type": "code",
   "execution_count": null,
   "metadata": {},
   "outputs": [],
   "source": [
    "mrepr(l[2].adj)"
   ]
  },
  {
   "cell_type": "code",
   "execution_count": null,
   "metadata": {},
   "outputs": [],
   "source": []
  },
  {
   "cell_type": "markdown",
   "metadata": {},
   "source": [
    "## Example\n",
    "\n",
    "Figure 1 from https://arxiv.org/pdf/0803.0476.pdf\n",
    "\n",
    "If the results don't match the paper, try running it again. Because the algorithm is non-deterministic, sometimes the communities don't match the results in the paper. But often they will."
   ]
  },
  {
   "cell_type": "code",
   "execution_count": null,
   "metadata": {},
   "outputs": [],
   "source": [
    "m = [\n",
    "[0,0,1,1,1,1,0,0,0,0,0,0,0,0,0,0],\n",
    "[0,0,1,0,1,0,0,1,0,0,0,0,0,0,0,0],\n",
    "[1,1,0,0,1,1,1,0,0,0,0,0,0,0,0,0],\n",
    "[1,0,0,0,0,0,0,1,0,0,0,0,0,0,0,0],\n",
    "[1,1,1,0,0,0,0,0,0,0,1,0,0,0,0,0],\n",
    "[1,0,1,0,0,0,0,1,0,0,0,1,0,0,0,0],\n",
    "[0,0,1,0,0,0,0,1,0,0,0,1,0,0,0,0],\n",
    "[0,1,0,1,0,1,1,0,0,0,0,0,0,0,0,0],\n",
    "[0,0,0,0,0,0,0,0,0,1,1,1,0,0,1,1],\n",
    "[0,0,0,0,0,0,0,0,1,0,0,0,1,0,1,0],\n",
    "[0,0,0,0,1,0,0,0,1,0,0,1,1,1,1,0],\n",
    "[0,0,0,0,0,1,1,0,1,0,1,0,0,1,0,0],\n",
    "[0,0,0,0,0,0,0,0,0,1,1,0,0,0,0,0],\n",
    "[0,0,0,0,0,0,0,0,0,0,1,1,0,0,0,0],\n",
    "[0,0,0,0,0,0,0,0,1,1,1,0,0,0,0,0],\n",
    "[0,0,0,0,0,0,0,0,1,0,0,0,0,0,0,0],\n",
    "]\n",
    "g = adj_matrix_to_grblas(m)"
   ]
  },
  {
   "cell_type": "code",
   "execution_count": null,
   "metadata": {},
   "outputs": [],
   "source": [
    "l = louvain_levels(g)\n",
    "l"
   ]
  },
  {
   "cell_type": "code",
   "execution_count": null,
   "metadata": {},
   "outputs": [],
   "source": [
    "mrepr(l[1].adj)"
   ]
  },
  {
   "cell_type": "code",
   "execution_count": null,
   "metadata": {},
   "outputs": [],
   "source": [
    "mrepr(l[2].adj)"
   ]
  },
  {
   "cell_type": "code",
   "execution_count": null,
   "metadata": {},
   "outputs": [],
   "source": []
  }
 ],
 "metadata": {
  "kernelspec": {
   "display_name": "Python 3",
   "language": "python",
   "name": "python3"
  },
  "language_info": {
   "codemirror_mode": {
    "name": "ipython",
    "version": 3
   },
   "file_extension": ".py",
   "mimetype": "text/x-python",
   "name": "python",
   "nbconvert_exporter": "python",
   "pygments_lexer": "ipython3",
   "version": "3.7.4"
  }
 },
 "nbformat": 4,
 "nbformat_minor": 4
}
