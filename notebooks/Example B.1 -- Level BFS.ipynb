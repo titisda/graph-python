{
 "cells": [
  {
   "cell_type": "markdown",
   "metadata": {},
   "source": [
    "## Example B.1 Level Breadth-first Search\n",
    "\n",
    "Examples come from http://people.eecs.berkeley.edu/~aydin/GraphBLAS_API_C_v13.pdf"
   ]
  },
  {
   "cell_type": "code",
   "execution_count": 1,
   "metadata": {},
   "outputs": [],
   "source": [
    "import numpy as np\n",
    "import pandas as pd\n",
    "import networkx as nx\n",
    "import matplotlib.pyplot as plt\n",
    "import grblas as gb\n",
    "from grblas import lib, ffi, Matrix, Vector, Scalar\n",
    "from grblas.base import NULL, REPLACE\n",
    "from grblas import dtypes\n",
    "from grblas import descriptor\n",
    "from grblas import UnaryOp, BinaryOp, Monoid, Semiring"
   ]
  },
  {
   "cell_type": "code",
   "execution_count": 2,
   "metadata": {},
   "outputs": [],
   "source": [
    "def vrepr(v):\n",
    "    df = pd.DataFrame(index=range(v.size), columns=[''])\n",
    "    for i, val in zip(*v.to_values()):\n",
    "        df.iloc[i] = val\n",
    "    return df.where(pd.notnull(df), '')\n",
    "\n",
    "def hrepr(v):\n",
    "    return vrepr(v).T\n",
    "\n",
    "def mrepr(m):\n",
    "    df = pd.DataFrame(columns=range(m.ncols), index=range(m.nrows))\n",
    "    for i, j, val in zip(*m.to_values()):\n",
    "        df.iloc[i, j] = val\n",
    "    return df.where(pd.notnull(df), '')\n",
    "\n",
    "def draw(m):\n",
    "    g = nx.DiGraph()\n",
    "    for row, col, val in zip(*m.to_values()):\n",
    "        g.add_edge(row, col, weight=val)\n",
    "    pos = nx.spring_layout(g)\n",
    "    edge_labels = {(i, j): d['weight'] for i, j, d in g.edges(data=True)}\n",
    "    nx.draw_networkx(g, pos, node_color='red', node_size=500)\n",
    "    #nx.draw_networkx_edge_labels(g, pos, edge_labels=edge_labels)"
   ]
  },
  {
   "cell_type": "code",
   "execution_count": 3,
   "metadata": {},
   "outputs": [],
   "source": [
    "# Create initial data objects\n",
    "edges = [\n",
    "    [3,0,3,5,6,0,6,1,6,2,4,1],\n",
    "    [0,1,2,2,2,3,3,4,4,5,5,6],\n",
    "]\n",
    "A = Matrix.new_from_values(edges[0], \n",
    "                           edges[1],\n",
    "                          [True for _ in edges[0]])\n",
    "s = 1"
   ]
  },
  {
   "cell_type": "code",
   "execution_count": 4,
   "metadata": {},
   "outputs": [
    {
     "data": {
      "text/html": [
       "<div>\n",
       "<style scoped>\n",
       "    .dataframe tbody tr th:only-of-type {\n",
       "        vertical-align: middle;\n",
       "    }\n",
       "\n",
       "    .dataframe tbody tr th {\n",
       "        vertical-align: top;\n",
       "    }\n",
       "\n",
       "    .dataframe thead th {\n",
       "        text-align: right;\n",
       "    }\n",
       "</style>\n",
       "<table border=\"1\" class=\"dataframe\">\n",
       "  <thead>\n",
       "    <tr style=\"text-align: right;\">\n",
       "      <th></th>\n",
       "      <th>0</th>\n",
       "      <th>1</th>\n",
       "      <th>2</th>\n",
       "      <th>3</th>\n",
       "      <th>4</th>\n",
       "      <th>5</th>\n",
       "      <th>6</th>\n",
       "    </tr>\n",
       "  </thead>\n",
       "  <tbody>\n",
       "    <tr>\n",
       "      <th>0</th>\n",
       "      <td></td>\n",
       "      <td>True</td>\n",
       "      <td></td>\n",
       "      <td>True</td>\n",
       "      <td></td>\n",
       "      <td></td>\n",
       "      <td></td>\n",
       "    </tr>\n",
       "    <tr>\n",
       "      <th>1</th>\n",
       "      <td></td>\n",
       "      <td></td>\n",
       "      <td></td>\n",
       "      <td></td>\n",
       "      <td>True</td>\n",
       "      <td></td>\n",
       "      <td>True</td>\n",
       "    </tr>\n",
       "    <tr>\n",
       "      <th>2</th>\n",
       "      <td></td>\n",
       "      <td></td>\n",
       "      <td></td>\n",
       "      <td></td>\n",
       "      <td></td>\n",
       "      <td>True</td>\n",
       "      <td></td>\n",
       "    </tr>\n",
       "    <tr>\n",
       "      <th>3</th>\n",
       "      <td>True</td>\n",
       "      <td></td>\n",
       "      <td>True</td>\n",
       "      <td></td>\n",
       "      <td></td>\n",
       "      <td></td>\n",
       "      <td></td>\n",
       "    </tr>\n",
       "    <tr>\n",
       "      <th>4</th>\n",
       "      <td></td>\n",
       "      <td></td>\n",
       "      <td></td>\n",
       "      <td></td>\n",
       "      <td></td>\n",
       "      <td>True</td>\n",
       "      <td></td>\n",
       "    </tr>\n",
       "    <tr>\n",
       "      <th>5</th>\n",
       "      <td></td>\n",
       "      <td></td>\n",
       "      <td>True</td>\n",
       "      <td></td>\n",
       "      <td></td>\n",
       "      <td></td>\n",
       "      <td></td>\n",
       "    </tr>\n",
       "    <tr>\n",
       "      <th>6</th>\n",
       "      <td></td>\n",
       "      <td></td>\n",
       "      <td>True</td>\n",
       "      <td>True</td>\n",
       "      <td>True</td>\n",
       "      <td></td>\n",
       "      <td></td>\n",
       "    </tr>\n",
       "  </tbody>\n",
       "</table>\n",
       "</div>"
      ],
      "text/plain": [
       "      0     1     2     3     4     5     6\n",
       "0        True        True                  \n",
       "1                          True        True\n",
       "2                                True      \n",
       "3  True        True                        \n",
       "4                                True      \n",
       "5              True                        \n",
       "6              True  True  True            "
      ]
     },
     "execution_count": 4,
     "metadata": {},
     "output_type": "execute_result"
    }
   ],
   "source": [
    "mrepr(A)"
   ]
  },
  {
   "cell_type": "code",
   "execution_count": 5,
   "metadata": {},
   "outputs": [
    {
     "data": {
      "image/png": "[encoded data removed]",
      "text/plain": [
       "<Figure size 432x288 with 1 Axes>"
      ]
     },
     "metadata": {},
     "output_type": "display_data"
    }
   ],
   "source": [
    "draw(A)"
   ]
  },
  {
   "cell_type": "markdown",
   "metadata": {},
   "source": [
    "### level breadth-first search (BFS) in GraphBLAS\n",
    "```\n",
    "1 #include <stdlib.h>\n",
    "2 #include <stdio.h>\n",
    "3 #include <stdint.h>\n",
    "4 #include <stdbool.h>\n",
    "5 #include ”GraphBLAS.h”\n",
    "6\n",
    "7 /*\n",
    "8  * Given a boolean n x n adjacency matrix A and a source vertex s, performs a BFS traversal\n",
    "9  * of the graph and sets v[i] to the level in which vertex i is visited ( v[s] == 1 ).\n",
    "10 * If i is not reacheable from s, then v[i] = 0. ( Vector v should be empty on input. )\n",
    "11 */\n",
    "12 GrB_Info BFS( GrB Vector *v , GrB Matrix A, GrB Index s )\n",
    "13 {\n",
    "14   GrB_Index n;\n",
    "15   GrB_Matrix_nrows(&n, A); // n = # of rows of A\n",
    "16\n",
    "17   GrB_Vector_new(v, GrB_INT32, n); // Vector<int32_t> v(n)\n",
    "18\n",
    "19   GrB_Vector q; // vertices visited in each level\n",
    "20   GrB_Vector_new(&q ,GrB_BOOL, n); // Vector<bool> q (n )\n",
    "21   GrB_Vector_setElement(q , ( bool ) true , s ) ; // q[s] = true , false everywhere else\n",
    "22\n",
    "23   /*\n",
    "24    * BFS traversal and label the vertices.\n",
    "25    */\n",
    "26   int32_t d = 0 ; // d = level in BFS traversal\n",
    "27   bool succ = false ; // succ == true when some successor found\n",
    "28   do {\n",
    "29     ++d ; // next level ( startwith 1)\n",
    "30     GrB_assign (*v, q, GrB_NULL, d, GrB_ALL, n, GrB_NULL ) ; // v[q] = d\n",
    "31     GrB_vxm(q, *v, GrB_NULL, GrB_LOR_LAND_SEMIRING_BOOL,\n",
    "32             q, A, GrB_DESC_RC); // q[!v] = q ||.&& A ; finds all the\n",
    "33                                 // unvisited successors from current q\n",
    "34     GrB_reduce(&succ, GrB_NULL, GrB_LOR_MONOID_BOOL,\n",
    "35                q, GrB_NULL ) ; // succ = || ( q )\n",
    "36   } while ( succ ) ; // if there is no successor in q, we are done.\n",
    "37\n",
    "38   GrB_free (&q) ; // q vector no longer needed\n",
    "39\n",
    "40   return GrB_SUCCESS ;\n",
    "41 }\n",
    "```"
   ]
  },
  {
   "cell_type": "markdown",
   "metadata": {},
   "source": [
    "## Python implementation"
   ]
  },
  {
   "cell_type": "code",
   "execution_count": 6,
   "metadata": {},
   "outputs": [],
   "source": [
    "n = A.nrows\n",
    "v = Vector.new_from_type(dtypes.INT32, n)\n",
    "q = Vector.new_from_type(bool, n)\n",
    "q.element[s] = True\n",
    "succ = Scalar.new_from_type(bool)"
   ]
  },
  {
   "cell_type": "code",
   "execution_count": 7,
   "metadata": {},
   "outputs": [
    {
     "data": {
      "text/html": [
       "<div>\n",
       "<style scoped>\n",
       "    .dataframe tbody tr th:only-of-type {\n",
       "        vertical-align: middle;\n",
       "    }\n",
       "\n",
       "    .dataframe tbody tr th {\n",
       "        vertical-align: top;\n",
       "    }\n",
       "\n",
       "    .dataframe thead th {\n",
       "        text-align: right;\n",
       "    }\n",
       "</style>\n",
       "<table border=\"1\" class=\"dataframe\">\n",
       "  <thead>\n",
       "    <tr style=\"text-align: right;\">\n",
       "      <th></th>\n",
       "      <th>0</th>\n",
       "      <th>1</th>\n",
       "      <th>2</th>\n",
       "      <th>3</th>\n",
       "      <th>4</th>\n",
       "      <th>5</th>\n",
       "      <th>6</th>\n",
       "    </tr>\n",
       "  </thead>\n",
       "  <tbody>\n",
       "    <tr>\n",
       "      <th></th>\n",
       "      <td>4</td>\n",
       "      <td>1</td>\n",
       "      <td>3</td>\n",
       "      <td>3</td>\n",
       "      <td>2</td>\n",
       "      <td>3</td>\n",
       "      <td>2</td>\n",
       "    </tr>\n",
       "  </tbody>\n",
       "</table>\n",
       "</div>"
      ],
      "text/plain": [
       "  0  1  2  3  4  5  6\n",
       "  4  1  3  3  2  3  2"
      ]
     },
     "execution_count": 7,
     "metadata": {},
     "output_type": "execute_result"
    }
   ],
   "source": [
    "d = 0  # level in BFS traversal\n",
    "while True:\n",
    "    d += 1\n",
    "    # For the frontier, assign the depth level\n",
    "    v.assign[q] = d\n",
    "    # Compute the next frontier, masking out anything already assigned\n",
    "    q[~v, REPLACE] = q.vxm(A, Semiring.LOR_LAND)\n",
    "    # If next frontier is empty, we're done\n",
    "    succ[:] = q.reduce(Monoid.LOR)\n",
    "    if not succ:\n",
    "        break\n",
    "hrepr(v)"
   ]
  },
  {
   "cell_type": "markdown",
   "metadata": {},
   "source": [
    "Let's Step thru each loop to watch the action unfold"
   ]
  },
  {
   "cell_type": "code",
   "execution_count": 8,
   "metadata": {},
   "outputs": [],
   "source": [
    "# Only run this cell once -- it initializes things\n",
    "v.clear()\n",
    "q.clear()\n",
    "q.element[s] = True\n",
    "d = 0"
   ]
  },
  {
   "cell_type": "code",
   "execution_count": 18,
   "metadata": {},
   "outputs": [
    {
     "data": {
      "text/html": [
       "<div>\n",
       "<style scoped>\n",
       "    .dataframe tbody tr th:only-of-type {\n",
       "        vertical-align: middle;\n",
       "    }\n",
       "\n",
       "    .dataframe tbody tr th {\n",
       "        vertical-align: top;\n",
       "    }\n",
       "\n",
       "    .dataframe thead th {\n",
       "        text-align: right;\n",
       "    }\n",
       "</style>\n",
       "<table border=\"1\" class=\"dataframe\">\n",
       "  <thead>\n",
       "    <tr style=\"text-align: right;\">\n",
       "      <th></th>\n",
       "      <th>0</th>\n",
       "      <th>1</th>\n",
       "      <th>2</th>\n",
       "      <th>3</th>\n",
       "      <th>4</th>\n",
       "      <th>5</th>\n",
       "      <th>6</th>\n",
       "    </tr>\n",
       "  </thead>\n",
       "  <tbody>\n",
       "    <tr>\n",
       "      <th></th>\n",
       "      <td>4</td>\n",
       "      <td>1</td>\n",
       "      <td>3</td>\n",
       "      <td>3</td>\n",
       "      <td>2</td>\n",
       "      <td>3</td>\n",
       "      <td>2</td>\n",
       "    </tr>\n",
       "  </tbody>\n",
       "</table>\n",
       "</div>"
      ],
      "text/plain": [
       "  0  1  2  3  4  5  6\n",
       "  4  1  3  3  2  3  2"
      ]
     },
     "execution_count": 18,
     "metadata": {},
     "output_type": "execute_result"
    }
   ],
   "source": [
    "d += 1\n",
    "# For the frontier, assign the depth level\n",
    "v.assign[q] = d\n",
    "hrepr(v)"
   ]
  },
  {
   "cell_type": "code",
   "execution_count": 19,
   "metadata": {},
   "outputs": [
    {
     "data": {
      "text/html": [
       "<div>\n",
       "<style scoped>\n",
       "    .dataframe tbody tr th:only-of-type {\n",
       "        vertical-align: middle;\n",
       "    }\n",
       "\n",
       "    .dataframe tbody tr th {\n",
       "        vertical-align: top;\n",
       "    }\n",
       "\n",
       "    .dataframe thead th {\n",
       "        text-align: right;\n",
       "    }\n",
       "</style>\n",
       "<table border=\"1\" class=\"dataframe\">\n",
       "  <thead>\n",
       "    <tr style=\"text-align: right;\">\n",
       "      <th></th>\n",
       "      <th>0</th>\n",
       "      <th>1</th>\n",
       "      <th>2</th>\n",
       "      <th>3</th>\n",
       "      <th>4</th>\n",
       "      <th>5</th>\n",
       "      <th>6</th>\n",
       "    </tr>\n",
       "  </thead>\n",
       "  <tbody>\n",
       "    <tr>\n",
       "      <th></th>\n",
       "      <td></td>\n",
       "      <td></td>\n",
       "      <td></td>\n",
       "      <td></td>\n",
       "      <td></td>\n",
       "      <td></td>\n",
       "      <td></td>\n",
       "    </tr>\n",
       "  </tbody>\n",
       "</table>\n",
       "</div>"
      ],
      "text/plain": [
       " 0 1 2 3 4 5 6\n",
       "              "
      ]
     },
     "execution_count": 19,
     "metadata": {},
     "output_type": "execute_result"
    }
   ],
   "source": [
    "# Compute the next frontier, masking out anything already assigned\n",
    "q[~v, REPLACE] = q.vxm(A, Semiring.LOR_LAND)\n",
    "hrepr(q)\n",
    "# These are the next layer of the BFS, prep'd for the next iteration"
   ]
  },
  {
   "cell_type": "code",
   "execution_count": 20,
   "metadata": {},
   "outputs": [
    {
     "name": "stdout",
     "output_type": "stream",
     "text": [
      "Done\n"
     ]
    }
   ],
   "source": [
    "succ[:] = q.reduce(Monoid.LOR)\n",
    "print('Continue' if succ else 'Done')"
   ]
  },
  {
   "cell_type": "code",
   "execution_count": null,
   "metadata": {},
   "outputs": [],
   "source": []
  }
 ],
 "metadata": {
  "kernelspec": {
   "display_name": "Python 3",
   "language": "python",
   "name": "python3"
  },
  "language_info": {
   "codemirror_mode": {
    "name": "ipython",
    "version": 3
   },
   "file_extension": ".py",
   "mimetype": "text/x-python",
   "name": "python",
   "nbconvert_exporter": "python",
   "pygments_lexer": "ipython3",
   "version": "3.7.4"
  }
 },
 "nbformat": 4,
 "nbformat_minor": 4
}
