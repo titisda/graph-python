{
 "cells": [
  {
   "cell_type": "markdown",
   "metadata": {},
   "source": [
    "## Example B.3 Parent Breadth-first Search\n",
    "\n",
    "Examples come from http://people.eecs.berkeley.edu/~aydin/GraphBLAS_API_C_v13.pdf"
   ]
  },
  {
   "cell_type": "code",
   "execution_count": 1,
   "metadata": {},
   "outputs": [],
   "source": [
    "import numpy as np\n",
    "import pandas as pd\n",
    "import networkx as nx\n",
    "import matplotlib.pyplot as plt\n",
    "import grblas as gb\n",
    "from grblas import lib, ffi, Matrix, Vector, Scalar\n",
    "from grblas.base import NULL, REPLACE\n",
    "from grblas import dtypes\n",
    "from grblas import descriptor\n",
    "from grblas import UnaryOp, BinaryOp, Monoid, Semiring"
   ]
  },
  {
   "cell_type": "code",
   "execution_count": 2,
   "metadata": {},
   "outputs": [],
   "source": [
    "def vrepr(v):\n",
    "    df = pd.DataFrame(index=range(v.size), columns=[''])\n",
    "    for i, val in zip(*v.to_values()):\n",
    "        df.iloc[i] = val\n",
    "    return df.where(pd.notnull(df), '')\n",
    "\n",
    "def hrepr(v):\n",
    "    return vrepr(v).T\n",
    "\n",
    "def mrepr(m):\n",
    "    df = pd.DataFrame(columns=range(m.ncols), index=range(m.nrows))\n",
    "    for i, j, val in zip(*m.to_values()):\n",
    "        df.iloc[i, j] = val\n",
    "    return df.where(pd.notnull(df), '')\n",
    "\n",
    "def draw(m):\n",
    "    g = nx.DiGraph()\n",
    "    for row, col, val in zip(*m.to_values()):\n",
    "        g.add_edge(row, col, weight=val)\n",
    "    pos = nx.spring_layout(g)\n",
    "    edge_labels = {(i, j): d['weight'] for i, j, d in g.edges(data=True)}\n",
    "    nx.draw_networkx(g, pos, node_color='red', node_size=500)\n",
    "    #nx.draw_networkx_edge_labels(g, pos, edge_labels=edge_labels)"
   ]
  },
  {
   "cell_type": "code",
   "execution_count": 3,
   "metadata": {},
   "outputs": [],
   "source": [
    "# Create initial data objects\n",
    "edges = [\n",
    "    [3,0,3,5,6,0,6,1,6,2,4,1],\n",
    "    [0,1,2,2,2,3,3,4,4,5,5,6],\n",
    "]\n",
    "A = Matrix.new_from_values(edges[0], \n",
    "                           edges[1],\n",
    "                          [True for _ in edges[0]])\n",
    "s = 1"
   ]
  },
  {
   "cell_type": "code",
   "execution_count": 4,
   "metadata": {},
   "outputs": [
    {
     "data": {
      "image/png": "[encoded data removed]",
      "text/plain": [
       "<Figure size 432x288 with 1 Axes>"
      ]
     },
     "metadata": {},
     "output_type": "display_data"
    }
   ],
   "source": [
    "draw(A)"
   ]
  },
  {
   "cell_type": "markdown",
   "metadata": {},
   "source": [
    "### parent breadth-first search (BFS) in GraphBLAS\n",
    "```\n",
    "1 #include <stdlib.h>\n",
    "2 #include <stdio.h>\n",
    "3 #include <stdint.h>\n",
    "4 #include <stdbool.h>\n",
    "5 #include ”GraphBLAS.h”\n",
    "6\n",
    "7 /∗\n",
    "8  ∗ Given a binary n x n adjacency matrix A and a source vertex s, performs a BFS\n",
    "9  ∗ traversal of the graph and sets parents[i] to the index i's parent.\n",
    "10 ∗ The parent of the root vertex, s, will be set to itself (parents[s] == s). If\n",
    "11 ∗ vertex i is not reachable from s, parents[i] will not contain a stored value.\n",
    "12 ∗/\n",
    "13 GrB_Info BFS(GrB_Vector *v, const GrB_Matrix A, GrB_Index s)\n",
    "14 {\n",
    "15   GrB_Index N;\n",
    "16   GrB_Matrix nrows(&N, A); // N = # of rows of A\n",
    "17\n",
    "18   // create index ramp for index_of() functionality\n",
    "19   GrB_Index *idx = (GrB_Index *) malloc (N*sizeof(GrB_Index));\n",
    "20   for (GrB_Index i = 0; i < N; ++i) idx[i] = i;\n",
    "21   GrB_Vector index_ramp;\n",
    "22   GrB_Vector_new(&index_ramp, GrB_UINT64, N);\n",
    "23   GrB_Vector_build_UINT64(index_ramp, idx, idx, N, GrB_PLUS_INT64);\n",
    "24   free(idx);\n",
    "25\n",
    "26   GrB_Vector_new(parents, GrB_UINT64, N);\n",
    "27   GrB_Vector_setElement(*parents, s, s); // parents[s] = s\n",
    "28\n",
    "29   GrB_Vector wavefront;\n",
    "30   GrB_Vector_new(&wavefront, GrB_UINT64, N);\n",
    "31   GrB_Vector_setElement(wavefront, 1UL, s); // wavefront[s] = 1\n",
    "18   GrB_Vector_new(v, GrB_INT32, N) ; // Vector<int32_t> v(n) = 0\n",
    "19\n",
    "33   /∗\n",
    "34    ∗ BFS traversal and label the vertices.\n",
    "35    ∗/\n",
    "36   GrB_Index nvals;\n",
    "37   GrB_Vector_nvals(&nvals, wavefront);\n",
    "38   \n",
    "39   while (nvals > 0) \n",
    "40   {\n",
    "41     // convert all stored values in wavefront to their 0−based index\n",
    "42     GrB_eWiseMult(wavefront, GrB_NULL, GrB_NULL, GrB_FIRST_UINT64,\n",
    "43     index_ramp, wavefront, GrB_NULL);\n",
    "44\n",
    "45     // ”FIRST” because left−multiplying wavefront rows. Masking out the parent\n",
    "46     // list ensures wavefront values do not overwrite parents already stored.\n",
    "47     GrB_vxm(wavefront, * parents, GrB_NULL, GrB_MIN_FIRST_SEMIRING_UINT64,\n",
    "48             wavefront, A, GrB_DESC_RSC);\n",
    "49\n",
    "50     // Don’t need to mask here since we did it in mxm. Merges new parents in\n",
    "51     // current wave front with existing parents : parents += wavefront\n",
    "52     GrB_apply(* parents, GrB_NULL, GrB_PLUS_UINT64,\n",
    "53     GrB_IDENTITY_UINT64, wavefront, GrB_NULL);\n",
    "54\n",
    "55     GrB_Vector_nvals(&nvals, wavefront);\n",
    "56   }\n",
    "57\n",
    "58   GrB_free(&wavefront);\n",
    "59   GrB_free(&index_ramp);\n",
    "60\n",
    "61   return GrB_SUCCESS;\n",
    "62 }\n",
    "```"
   ]
  },
  {
   "cell_type": "markdown",
   "metadata": {},
   "source": [
    "## Python implementation"
   ]
  },
  {
   "cell_type": "code",
   "execution_count": 5,
   "metadata": {},
   "outputs": [],
   "source": [
    "N = A.nrows\n",
    "index_ramp = Vector.new_from_type(dtypes.UINT64, N)\n",
    "index_ramp.rebuild_from_values(range(N), range(N))\n",
    "parents = Vector.new_from_type(dtypes.UINT64, N)\n",
    "parents.element[s] = s\n",
    "wavefront = Vector.new_from_type(dtypes.UINT64, N)\n",
    "wavefront.element[s] = 1"
   ]
  },
  {
   "cell_type": "code",
   "execution_count": 6,
   "metadata": {},
   "outputs": [
    {
     "data": {
      "text/html": [
       "<div>\n",
       "<style scoped>\n",
       "    .dataframe tbody tr th:only-of-type {\n",
       "        vertical-align: middle;\n",
       "    }\n",
       "\n",
       "    .dataframe tbody tr th {\n",
       "        vertical-align: top;\n",
       "    }\n",
       "\n",
       "    .dataframe thead th {\n",
       "        text-align: right;\n",
       "    }\n",
       "</style>\n",
       "<table border=\"1\" class=\"dataframe\">\n",
       "  <thead>\n",
       "    <tr style=\"text-align: right;\">\n",
       "      <th></th>\n",
       "      <th>0</th>\n",
       "      <th>1</th>\n",
       "      <th>2</th>\n",
       "      <th>3</th>\n",
       "      <th>4</th>\n",
       "      <th>5</th>\n",
       "      <th>6</th>\n",
       "    </tr>\n",
       "  </thead>\n",
       "  <tbody>\n",
       "    <tr>\n",
       "      <th></th>\n",
       "      <td>3</td>\n",
       "      <td>1</td>\n",
       "      <td>6</td>\n",
       "      <td>6</td>\n",
       "      <td>1</td>\n",
       "      <td>4</td>\n",
       "      <td>1</td>\n",
       "    </tr>\n",
       "  </tbody>\n",
       "</table>\n",
       "</div>"
      ],
      "text/plain": [
       "  0  1  2  3  4  5  6\n",
       "  3  1  6  6  1  4  1"
      ]
     },
     "execution_count": 6,
     "metadata": {},
     "output_type": "execute_result"
    }
   ],
   "source": [
    "while wavefront.nvals > 0:\n",
    "    # convert all stored values in wavefront to their 0−based index\n",
    "    wavefront[:] = index_ramp.ewise_mult(wavefront, BinaryOp.FIRST)\n",
    "    # ”FIRST” because left−multiplying wavefront rows. Masking out the parent\n",
    "    # list ensures wavefront values do not overwrite parents already stored.\n",
    "    wavefront[~parents, REPLACE] = wavefront.vxm(A, Semiring.MIN_FIRST)\n",
    "    # Don’t need to mask here since we did it in mxm. Merges new parents in\n",
    "    # current wave front with existing parents : parents += wavefront\n",
    "    parents[BinaryOp.PLUS] = wavefront.apply(UnaryOp.IDENTITY)\n",
    "hrepr(parents)"
   ]
  },
  {
   "cell_type": "markdown",
   "metadata": {},
   "source": [
    "Let's Step thru each loop to watch the action unfold"
   ]
  },
  {
   "cell_type": "code",
   "execution_count": 7,
   "metadata": {},
   "outputs": [],
   "source": [
    "# Only run this cell once -- it initializes things\n",
    "parents.clear()\n",
    "parents.element[s] = s\n",
    "wavefront.clear()\n",
    "wavefront.element[s] = 1"
   ]
  },
  {
   "cell_type": "code",
   "execution_count": 24,
   "metadata": {},
   "outputs": [
    {
     "name": "stdout",
     "output_type": "stream",
     "text": [
      "Done\n"
     ]
    }
   ],
   "source": [
    "print('Proceed' if wavefront.nvals > 0 else 'Done')"
   ]
  },
  {
   "cell_type": "code",
   "execution_count": 21,
   "metadata": {},
   "outputs": [
    {
     "data": {
      "text/html": [
       "<div>\n",
       "<style scoped>\n",
       "    .dataframe tbody tr th:only-of-type {\n",
       "        vertical-align: middle;\n",
       "    }\n",
       "\n",
       "    .dataframe tbody tr th {\n",
       "        vertical-align: top;\n",
       "    }\n",
       "\n",
       "    .dataframe thead th {\n",
       "        text-align: right;\n",
       "    }\n",
       "</style>\n",
       "<table border=\"1\" class=\"dataframe\">\n",
       "  <thead>\n",
       "    <tr style=\"text-align: right;\">\n",
       "      <th></th>\n",
       "      <th>0</th>\n",
       "      <th>1</th>\n",
       "      <th>2</th>\n",
       "      <th>3</th>\n",
       "      <th>4</th>\n",
       "      <th>5</th>\n",
       "      <th>6</th>\n",
       "    </tr>\n",
       "  </thead>\n",
       "  <tbody>\n",
       "    <tr>\n",
       "      <th></th>\n",
       "      <td>0</td>\n",
       "      <td></td>\n",
       "      <td></td>\n",
       "      <td></td>\n",
       "      <td></td>\n",
       "      <td></td>\n",
       "      <td></td>\n",
       "    </tr>\n",
       "  </tbody>\n",
       "</table>\n",
       "</div>"
      ],
      "text/plain": [
       "  0 1 2 3 4 5 6\n",
       "  0            "
      ]
     },
     "execution_count": 21,
     "metadata": {},
     "output_type": "execute_result"
    }
   ],
   "source": [
    "# convert all stored values in wavefront to their 0−based index\n",
    "wavefront[:] = index_ramp.ewise_mult(wavefront, BinaryOp.FIRST)\n",
    "hrepr(wavefront)"
   ]
  },
  {
   "cell_type": "code",
   "execution_count": 22,
   "metadata": {},
   "outputs": [
    {
     "data": {
      "text/html": [
       "<div>\n",
       "<style scoped>\n",
       "    .dataframe tbody tr th:only-of-type {\n",
       "        vertical-align: middle;\n",
       "    }\n",
       "\n",
       "    .dataframe tbody tr th {\n",
       "        vertical-align: top;\n",
       "    }\n",
       "\n",
       "    .dataframe thead th {\n",
       "        text-align: right;\n",
       "    }\n",
       "</style>\n",
       "<table border=\"1\" class=\"dataframe\">\n",
       "  <thead>\n",
       "    <tr style=\"text-align: right;\">\n",
       "      <th></th>\n",
       "      <th>0</th>\n",
       "      <th>1</th>\n",
       "      <th>2</th>\n",
       "      <th>3</th>\n",
       "      <th>4</th>\n",
       "      <th>5</th>\n",
       "      <th>6</th>\n",
       "    </tr>\n",
       "  </thead>\n",
       "  <tbody>\n",
       "    <tr>\n",
       "      <th></th>\n",
       "      <td></td>\n",
       "      <td></td>\n",
       "      <td></td>\n",
       "      <td></td>\n",
       "      <td></td>\n",
       "      <td></td>\n",
       "      <td></td>\n",
       "    </tr>\n",
       "  </tbody>\n",
       "</table>\n",
       "</div>"
      ],
      "text/plain": [
       " 0 1 2 3 4 5 6\n",
       "              "
      ]
     },
     "execution_count": 22,
     "metadata": {},
     "output_type": "execute_result"
    }
   ],
   "source": [
    "# ”FIRST” because left−multiplying wavefront rows. Masking out the parent\n",
    "# list ensures wavefront values do not overwrite parents already stored.\n",
    "wavefront[~parents, REPLACE] = wavefront.vxm(A, Semiring.MIN_FIRST)\n",
    "hrepr(wavefront)"
   ]
  },
  {
   "cell_type": "code",
   "execution_count": 23,
   "metadata": {},
   "outputs": [
    {
     "data": {
      "text/html": [
       "<div>\n",
       "<style scoped>\n",
       "    .dataframe tbody tr th:only-of-type {\n",
       "        vertical-align: middle;\n",
       "    }\n",
       "\n",
       "    .dataframe tbody tr th {\n",
       "        vertical-align: top;\n",
       "    }\n",
       "\n",
       "    .dataframe thead th {\n",
       "        text-align: right;\n",
       "    }\n",
       "</style>\n",
       "<table border=\"1\" class=\"dataframe\">\n",
       "  <thead>\n",
       "    <tr style=\"text-align: right;\">\n",
       "      <th></th>\n",
       "      <th>0</th>\n",
       "      <th>1</th>\n",
       "      <th>2</th>\n",
       "      <th>3</th>\n",
       "      <th>4</th>\n",
       "      <th>5</th>\n",
       "      <th>6</th>\n",
       "    </tr>\n",
       "  </thead>\n",
       "  <tbody>\n",
       "    <tr>\n",
       "      <th></th>\n",
       "      <td>3</td>\n",
       "      <td>1</td>\n",
       "      <td>6</td>\n",
       "      <td>6</td>\n",
       "      <td>1</td>\n",
       "      <td>4</td>\n",
       "      <td>1</td>\n",
       "    </tr>\n",
       "  </tbody>\n",
       "</table>\n",
       "</div>"
      ],
      "text/plain": [
       "  0  1  2  3  4  5  6\n",
       "  3  1  6  6  1  4  1"
      ]
     },
     "execution_count": 23,
     "metadata": {},
     "output_type": "execute_result"
    }
   ],
   "source": [
    "# Don’t need to mask here since we did it in mxm. Merges new parents in\n",
    "# current wave front with existing parents : parents += wavefront\n",
    "parents[BinaryOp.PLUS] = wavefront.apply(UnaryOp.IDENTITY)\n",
    "hrepr(parents)"
   ]
  },
  {
   "cell_type": "markdown",
   "metadata": {},
   "source": []
  }
 ],
 "metadata": {
  "kernelspec": {
   "display_name": "Python 3",
   "language": "python",
   "name": "python3"
  },
  "language_info": {
   "codemirror_mode": {
    "name": "ipython",
    "version": 3
   },
   "file_extension": ".py",
   "mimetype": "text/x-python",
   "name": "python",
   "nbconvert_exporter": "python",
   "pygments_lexer": "ipython3",
   "version": "3.7.4"
  }
 },
 "nbformat": 4,
 "nbformat_minor": 4
}
