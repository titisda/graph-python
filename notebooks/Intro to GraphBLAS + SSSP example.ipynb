{
 "cells": [
  {
   "cell_type": "code",
   "execution_count": null,
   "metadata": {},
   "outputs": [],
   "source": [
    "import numpy as np\n",
    "import pandas as pd\n",
    "import networkx as nx\n",
    "import matplotlib.pyplot as plt\n",
    "import grblas\n",
    "grblas.init('suitesparse')\n",
    "from grblas import Matrix, Vector\n",
    "from grblas import descriptor\n",
    "from grblas import UnaryOp, BinaryOp, Monoid, Semiring\n",
    "from grblas import io as gio"
   ]
  },
  {
   "cell_type": "markdown",
   "metadata": {},
   "source": [
    "## Create and visualize a Matrix"
   ]
  },
  {
   "cell_type": "code",
   "execution_count": null,
   "metadata": {},
   "outputs": [],
   "source": [
    "data = [\n",
    "    [3,0,3,5,6,0,6,1,6,2,4,1],\n",
    "    [0,1,2,2,2,3,3,4,4,5,5,6],\n",
    "    [3,2,3,1,5,3,7,8,3,1,7,4]\n",
    "]"
   ]
  },
  {
   "cell_type": "code",
   "execution_count": null,
   "metadata": {},
   "outputs": [],
   "source": [
    "rows, cols, weights = data\n",
    "m = Matrix.new_from_values(rows, cols, weights)\n",
    "m\n",
    "# Size of the sparse matrix is 7x7 with 12 non-zero elements of type INT64"
   ]
  },
  {
   "cell_type": "code",
   "execution_count": null,
   "metadata": {},
   "outputs": [],
   "source": [
    "m.show()\n",
    "# This is an adjacency matrix\n",
    "# Reading along a row shows the out-nodes of a vertex\n",
    "# Reading along a column shows the in-nodes of a vertex"
   ]
  },
  {
   "cell_type": "code",
   "execution_count": null,
   "metadata": {},
   "outputs": [],
   "source": [
    "gio.draw(m)"
   ]
  },
  {
   "cell_type": "markdown",
   "metadata": {},
   "source": [
    "## Create and visualize a Vector"
   ]
  },
  {
   "cell_type": "code",
   "execution_count": null,
   "metadata": {},
   "outputs": [],
   "source": [
    "v = Vector.new_from_type(m.dtype, m.nrows)\n",
    "v.element[1] = 0"
   ]
  },
  {
   "cell_type": "code",
   "execution_count": null,
   "metadata": {},
   "outputs": [],
   "source": [
    "v.show()"
   ]
  },
  {
   "cell_type": "markdown",
   "metadata": {},
   "source": [
    "## Single-source Shortest Path\n",
    "\n",
    "This uses the **_min-plus_** semiring because we want to add the edges, then take the minimum length of available paths."
   ]
  },
  {
   "cell_type": "code",
   "execution_count": null,
   "metadata": {},
   "outputs": [],
   "source": [
    "# Create a vector and initialize a starting vertex (1) with a distance of zero\n",
    "v = Vector.new_from_type(m.dtype, m.nrows)\n",
    "v.element[1] = 0\n",
    "v.show()"
   ]
  },
  {
   "cell_type": "code",
   "execution_count": null,
   "metadata": {},
   "outputs": [],
   "source": [
    "m.show()"
   ]
  },
  {
   "cell_type": "code",
   "execution_count": null,
   "metadata": {},
   "outputs": [],
   "source": [
    "# v @ m will give us one step in a Breadth-first search\n",
    "w = Vector.new_from_existing(v)\n",
    "w[:] = v.vxm(m, Semiring.MIN_PLUS)\n",
    "w.show()"
   ]
  },
  {
   "cell_type": "code",
   "execution_count": null,
   "metadata": {},
   "outputs": [],
   "source": [
    "# Look again at m and see that vertex 1 points to vertices 4 and 6 with the weights indicated\n",
    "gio.draw(m)"
   ]
  },
  {
   "cell_type": "markdown",
   "metadata": {},
   "source": [
    "We have the right semiring, but we already lost the initial distance=0 for vertex 1. How do we keep that information around as we step thru the BFS?\n",
    "\n",
    "GraphBLAS has a builtin accumulator available for every operation.\n",
    "Because it's C-based, you pass in the output object and it accumulates its existing values with the result, then returns itself."
   ]
  },
  {
   "cell_type": "code",
   "execution_count": null,
   "metadata": {},
   "outputs": [],
   "source": [
    "w = Vector.new_from_existing(v)\n",
    "w[BinaryOp.MIN] = v.vxm(m, Semiring.MIN_PLUS)\n",
    "w.show()\n",
    "# Now we see that the zero distance for vertex 1 is preserved"
   ]
  },
  {
   "cell_type": "markdown",
   "metadata": {},
   "source": [
    "Let's take another step"
   ]
  },
  {
   "cell_type": "code",
   "execution_count": null,
   "metadata": {},
   "outputs": [],
   "source": [
    "w[BinaryOp.MIN] = w.vxm(m, Semiring.MIN_PLUS)\n",
    "w.show()\n",
    "# We see that the path to vertex 4 is now shorter. That's `min` doing its thing.\n",
    "# Verify the other path distances from vertex 1 with at most two hops"
   ]
  },
  {
   "cell_type": "code",
   "execution_count": null,
   "metadata": {},
   "outputs": [],
   "source": [
    "gio.draw(m)"
   ]
  },
  {
   "cell_type": "markdown",
   "metadata": {},
   "source": [
    "The algorithm repeats until a new computation is the same as the previous result"
   ]
  },
  {
   "cell_type": "code",
   "execution_count": null,
   "metadata": {},
   "outputs": [],
   "source": [
    "w = Vector.new_from_existing(v)\n",
    "while True:\n",
    "    w_old = Vector.new_from_existing(w)\n",
    "    w[BinaryOp.MIN] = w.vxm(m, Semiring.MIN_PLUS)\n",
    "    if w == w_old:\n",
    "        break\n",
    "w.show()"
   ]
  },
  {
   "cell_type": "markdown",
   "metadata": {},
   "source": [
    "## Alternate solution without using accumulator\n",
    "\n",
    "In the min_plus semiring, the \"empty\" value of a sparse matrix is not actually 0, but +infinity.\n",
    "\n",
    "That way, `min(anything, +inf) = anything`, similar to the normal addition 0 of `add(anything, 0) = anything`.\n",
    "\n",
    "A clever trick sets the diagonal of the matrix to all zeros. This makes it behave like the Identity matrix for the min_plus semiring.\n",
    "\n",
    "Observe:"
   ]
  },
  {
   "cell_type": "code",
   "execution_count": null,
   "metadata": {},
   "outputs": [],
   "source": [
    "m_ident = Matrix.new_from_values(range(7), range(7), [0]*7)\n",
    "m_ident.show()"
   ]
  },
  {
   "cell_type": "code",
   "execution_count": null,
   "metadata": {},
   "outputs": [],
   "source": [
    "v.rebuild_from_values([1], [0])\n",
    "v.show()"
   ]
  },
  {
   "cell_type": "code",
   "execution_count": null,
   "metadata": {},
   "outputs": [],
   "source": [
    "v[:] = v.vxm(m_ident, Semiring.MIN_PLUS)\n",
    "v.show()\n",
    "# See how it preserved v exactly"
   ]
  },
  {
   "cell_type": "code",
   "execution_count": null,
   "metadata": {},
   "outputs": [],
   "source": [
    "# Let's try again\n",
    "v.rebuild_from_values([0, 1, 4], [14, 0, 77])\n",
    "v[:] = v.vxm(m_ident, Semiring.MIN_PLUS)\n",
    "v.show()"
   ]
  },
  {
   "cell_type": "markdown",
   "metadata": {},
   "source": [
    "So zeros along the diagonal preserve what you already have in `v` without adding any new path information. That's the behavior we want, so let's update `m` with zeros on the diagonal and repeat SSSP without using accumulators."
   ]
  },
  {
   "cell_type": "code",
   "execution_count": null,
   "metadata": {},
   "outputs": [],
   "source": [
    "for i in range(m.nrows):\n",
    "    m.element[i, i] = 0\n",
    "m.show()"
   ]
  },
  {
   "cell_type": "code",
   "execution_count": null,
   "metadata": {},
   "outputs": [],
   "source": [
    "# Reset v\n",
    "v.clear()\n",
    "v.element[1] = 0\n",
    "v.show()"
   ]
  },
  {
   "cell_type": "code",
   "execution_count": null,
   "metadata": {},
   "outputs": [],
   "source": [
    "# Take one step (notice no accumulator is specified)\n",
    "v[:] = v.vxm(m, Semiring.MIN_PLUS)\n",
    "v.show()"
   ]
  },
  {
   "cell_type": "code",
   "execution_count": null,
   "metadata": {},
   "outputs": [],
   "source": [
    "# Repeat until we're converged\n",
    "while True:\n",
    "    w = Vector.new_from_existing(v)\n",
    "    v[:] = v.vxm(m, Semiring.MIN_PLUS)\n",
    "    if v == w:\n",
    "        break\n",
    "v.show()"
   ]
  },
  {
   "cell_type": "markdown",
   "metadata": {},
   "source": [
    "### And that's SSSP in 5 very readable lines of Python, thanks to GraphBLAS"
   ]
  },
  {
   "cell_type": "code",
   "execution_count": null,
   "metadata": {},
   "outputs": [],
   "source": []
  },
  {
   "cell_type": "code",
   "execution_count": null,
   "metadata": {},
   "outputs": [],
   "source": []
  }
 ],
 "metadata": {
  "kernelspec": {
   "display_name": "Python 3",
   "language": "python",
   "name": "python3"
  },
  "language_info": {
   "codemirror_mode": {
    "name": "ipython",
    "version": 3
   },
   "file_extension": ".py",
   "mimetype": "text/x-python",
   "name": "python",
   "nbconvert_exporter": "python",
   "pygments_lexer": "ipython3",
   "version": "3.7.4"
  }
 },
 "nbformat": 4,
 "nbformat_minor": 4
}
