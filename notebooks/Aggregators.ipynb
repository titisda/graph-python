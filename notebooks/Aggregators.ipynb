{
 "cells": [
  {
   "cell_type": "markdown",
   "id": "207b9b12",
   "metadata": {},
   "source": [
    "# Aggregators\n",
    "\n"
   ]
  },
  {
   "cell_type": "code",
   "execution_count": null,
   "id": "914576f5",
   "metadata": {},
   "outputs": [],
   "source": [
    "import grblas as gb\n",
    "from grblas import Recorder, Matrix, Vector, agg"
   ]
  },
  {
   "cell_type": "code",
   "execution_count": null,
   "id": "616c83c4",
   "metadata": {},
   "outputs": [],
   "source": [
    "# We can create a recorder and have it be alive until we call `rec.stop()`.\n",
    "# One can do `rec.clear()` to clear the data.\n",
    "rec = Recorder(record=True)\n",
    "A = Matrix.from_values(\n",
    "    [3, 0, 3, 5, 6, 0, 6, 1, 6, 2, 5],\n",
    "    [0, 1, 2, 2, 2, 3, 3, 4, 4, 5, 5],\n",
    "    [3, 2, 3, 1, 5, 3, 7, 8, 3, 1, 7],\n",
    "    dtype=\"int32\",\n",
    "    name=\"A\"\n",
    ")\n",
    "A"
   ]
  },
  {
   "cell_type": "code",
   "execution_count": null,
   "id": "2a21a11d",
   "metadata": {},
   "outputs": [],
   "source": [
    "rec"
   ]
  },
  {
   "cell_type": "code",
   "execution_count": null,
   "id": "29c6366a",
   "metadata": {},
   "outputs": [],
   "source": [
    "# You can also record within a context.\n",
    "# Only one recorder records at a given time, so `rec` does not save these calls\n",
    "with Recorder() as rec2:\n",
    "    result = A.reduce_rows(agg.min).new()\n",
    "result"
   ]
  },
  {
   "cell_type": "code",
   "execution_count": null,
   "id": "6c0c15ed",
   "metadata": {},
   "outputs": [],
   "source": [
    "# Here we see our recipe simply used a monoid as one would expect for MIN\n",
    "rec2"
   ]
  },
  {
   "cell_type": "code",
   "execution_count": null,
   "id": "8ed74d45",
   "metadata": {},
   "outputs": [],
   "source": [
    "rec.clear()\n",
    "A.reduce_columns(agg.count).new()"
   ]
  },
  {
   "cell_type": "markdown",
   "id": "8fffedcc",
   "metadata": {},
   "source": [
    "### Look at recipes for all the aggregators"
   ]
  },
  {
   "cell_type": "code",
   "execution_count": null,
   "id": "751222d0",
   "metadata": {},
   "outputs": [],
   "source": [
    "from IPython.display import display, HTML, Markdown"
   ]
  },
  {
   "cell_type": "code",
   "execution_count": null,
   "id": "9d9c057c",
   "metadata": {
    "scrolled": false
   },
   "outputs": [],
   "source": [
    "skipped = set()\n",
    "for aggname in sorted(dir(agg)):\n",
    "    aggregator = getattr(agg, aggname)\n",
    "    if not isinstance(aggregator, agg.Aggregator):\n",
    "        continue\n",
    "    try:\n",
    "        with Recorder() as r:\n",
    "            # The type-handing of aggregators still needs work, so hack it for now\n",
    "            if aggname in {'all', 'any'}:\n",
    "                B = A.dup(dtype=bool)\n",
    "            elif aggname in {'bitwise_all', 'bitwise_any'}:\n",
    "                B = A.dup(dtype='UINT64')\n",
    "            else:\n",
    "                B = A\n",
    "            result = B.reduce_rows(aggregator).new()\n",
    "            display(Markdown(f\"# {aggname}\"))\n",
    "            display(HTML(result._repr_html_()))\n",
    "            display(Markdown(r._repr_markdown_()))\n",
    "    except Exception:\n",
    "        skipped.add(aggname)"
   ]
  },
  {
   "cell_type": "code",
   "execution_count": null,
   "id": "01901a40",
   "metadata": {},
   "outputs": [],
   "source": [
    "skipped"
   ]
  },
  {
   "cell_type": "code",
   "execution_count": null,
   "id": "5e6b7e46",
   "metadata": {},
   "outputs": [],
   "source": []
  }
 ],
 "metadata": {
  "kernelspec": {
   "display_name": "Python 3",
   "language": "python",
   "name": "python3"
  },
  "language_info": {
   "codemirror_mode": {
    "name": "ipython",
    "version": 3
   },
   "file_extension": ".py",
   "mimetype": "text/x-python",
   "name": "python",
   "nbconvert_exporter": "python",
   "pygments_lexer": "ipython3",
   "version": "3.8.8"
  }
 },
 "nbformat": 4,
 "nbformat_minor": 5
}
