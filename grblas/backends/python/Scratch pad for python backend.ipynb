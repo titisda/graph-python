{
 "cells": [
  {
   "cell_type": "code",
   "execution_count": 7,
   "metadata": {},
   "outputs": [],
   "source": [
    "import numba\n",
    "import numpy as np\n",
    "import pandas as pd\n",
    "import networkx as nx\n",
    "import scipy\n",
    "from scipy.sparse import csr_matrix, coo_matrix"
   ]
  },
  {
   "cell_type": "code",
   "execution_count": 8,
   "metadata": {},
   "outputs": [],
   "source": [
    "def vrepr(v):\n",
    "    nrows, ncols = v.shape\n",
    "    assert nrows == 1\n",
    "    df = pd.DataFrame(index=range(ncols), columns=[\"\"])\n",
    "    coo = v.tocoo()\n",
    "    for i, val in zip(coo.col, coo.data):\n",
    "        df.iloc[i] = val\n",
    "    return df.where(pd.notnull(df), \"\")\n",
    "\n",
    "\n",
    "def hrepr(v):\n",
    "    return vrepr(v).T\n",
    "\n",
    "\n",
    "def mrepr(m):\n",
    "    nrows, ncols = m.shape\n",
    "    df = pd.DataFrame(columns=range(ncols), index=range(nrows))\n",
    "    coo = m.tocoo()\n",
    "    for i, j, val in zip(coo.row, coo.col, coo.data):\n",
    "        df.iloc[i, j] = val\n",
    "    return df.where(pd.notnull(df), \"\")\n",
    "\n",
    "\n",
    "def draw(m):\n",
    "    g = nx.DiGraph()\n",
    "    coo = m.tocoo()\n",
    "    for row, col, val in zip(coo.row, coo.col, coo.data):\n",
    "        g.add_edge(row, col, weight=val)\n",
    "    pos = nx.spring_layout(g)\n",
    "    edge_labels = {(i, j): d[\"weight\"] for i, j, d in g.edges(data=True)}\n",
    "    nx.draw_networkx(g, pos, node_color=\"red\", node_size=500)\n",
    "    nx.draw_networkx_edge_labels(g, pos, edge_labels=edge_labels)"
   ]
  },
  {
   "cell_type": "code",
   "execution_count": null,
   "metadata": {},
   "outputs": [],
   "source": [
    "data = [\n",
    "    [3, 0, 3, 5, 6, 0, 6, 1, 6, 2, 4, 1],\n",
    "    [0, 1, 2, 2, 2, 3, 3, 4, 4, 5, 5, 6],\n",
    "    [3, 2, 3, 1, 5, 3, 7, 8, 3, 1, 7, 4],\n",
    "]"
   ]
  },
  {
   "cell_type": "code",
   "execution_count": null,
   "metadata": {},
   "outputs": [],
   "source": [
    "rows, cols, weights = data\n",
    "m = coo_matrix((weights, (rows, cols)), shape=(7, 7))\n",
    "m"
   ]
  },
  {
   "cell_type": "code",
   "execution_count": null,
   "metadata": {},
   "outputs": [],
   "source": [
    "m = m.tocsr()"
   ]
  },
  {
   "cell_type": "code",
   "execution_count": null,
   "metadata": {},
   "outputs": [],
   "source": [
    "m.data"
   ]
  },
  {
   "cell_type": "code",
   "execution_count": null,
   "metadata": {},
   "outputs": [],
   "source": [
    "m.nnz"
   ]
  },
  {
   "cell_type": "code",
   "execution_count": null,
   "metadata": {},
   "outputs": [],
   "source": [
    "m.shape"
   ]
  },
  {
   "cell_type": "code",
   "execution_count": null,
   "metadata": {},
   "outputs": [],
   "source": [
    "m.toarray()"
   ]
  },
  {
   "cell_type": "code",
   "execution_count": null,
   "metadata": {},
   "outputs": [],
   "source": [
    "mrepr(m)"
   ]
  },
  {
   "cell_type": "code",
   "execution_count": null,
   "metadata": {},
   "outputs": [],
   "source": [
    "draw(m)"
   ]
  },
  {
   "cell_type": "markdown",
   "metadata": {},
   "source": [
    "## How to update values without changing nnz"
   ]
  },
  {
   "cell_type": "code",
   "execution_count": null,
   "metadata": {},
   "outputs": [],
   "source": [
    "m2 = m.copy()"
   ]
  },
  {
   "cell_type": "code",
   "execution_count": null,
   "metadata": {},
   "outputs": [],
   "source": [
    "m2.data = np.array([1] * len(m2.data))"
   ]
  },
  {
   "cell_type": "code",
   "execution_count": null,
   "metadata": {},
   "outputs": [],
   "source": [
    "m2.toarray()"
   ]
  },
  {
   "cell_type": "code",
   "execution_count": null,
   "metadata": {},
   "outputs": [],
   "source": [
    "(m * m2).toarray()  # Appears to do matrix multiplication"
   ]
  },
  {
   "cell_type": "code",
   "execution_count": null,
   "metadata": {},
   "outputs": [],
   "source": [
    "m.multiply(m2).toarray()"
   ]
  },
  {
   "cell_type": "code",
   "execution_count": null,
   "metadata": {},
   "outputs": [],
   "source": [
    "m.toarray()"
   ]
  },
  {
   "cell_type": "code",
   "execution_count": null,
   "metadata": {},
   "outputs": [],
   "source": [
    "m.data"
   ]
  },
  {
   "cell_type": "code",
   "execution_count": null,
   "metadata": {},
   "outputs": [],
   "source": [
    "m.tocoo().col"
   ]
  },
  {
   "cell_type": "code",
   "execution_count": null,
   "metadata": {},
   "outputs": [],
   "source": [
    "m.shape"
   ]
  },
  {
   "cell_type": "markdown",
   "metadata": {},
   "source": [
    "## Sparse vector?\n",
    "\n",
    "Simulate by using a (1 x n) sparse matrix"
   ]
  },
  {
   "cell_type": "code",
   "execution_count": null,
   "metadata": {},
   "outputs": [],
   "source": [
    "v = coo_matrix(([1], ([0], [1])), shape=(1, 7))\n",
    "v = v.tocsr()"
   ]
  },
  {
   "cell_type": "code",
   "execution_count": null,
   "metadata": {},
   "outputs": [],
   "source": [
    "v.toarray()"
   ]
  },
  {
   "cell_type": "code",
   "execution_count": null,
   "metadata": {},
   "outputs": [],
   "source": [
    "hrepr(v)"
   ]
  },
  {
   "cell_type": "code",
   "execution_count": null,
   "metadata": {},
   "outputs": [],
   "source": []
  },
  {
   "cell_type": "code",
   "execution_count": null,
   "metadata": {},
   "outputs": [],
   "source": []
  },
  {
   "cell_type": "code",
   "execution_count": null,
   "metadata": {},
   "outputs": [],
   "source": []
  },
  {
   "cell_type": "markdown",
   "metadata": {},
   "source": [
    "## Attributes of csr_matrix object\n",
    "\n",
    "Because scipy.sparse has no concept of semirings, we will need to implement lots of things in numba.\n",
    "\n",
    "To work efficiently, we need access to the underlying array objects."
   ]
  },
  {
   "cell_type": "code",
   "execution_count": null,
   "metadata": {},
   "outputs": [],
   "source": [
    "m.data"
   ]
  },
  {
   "cell_type": "code",
   "execution_count": null,
   "metadata": {},
   "outputs": [],
   "source": [
    "m.dtype"
   ]
  },
  {
   "cell_type": "code",
   "execution_count": null,
   "metadata": {},
   "outputs": [],
   "source": [
    "m.format"
   ]
  },
  {
   "cell_type": "code",
   "execution_count": null,
   "metadata": {},
   "outputs": [],
   "source": [
    "m.indices"
   ]
  },
  {
   "cell_type": "code",
   "execution_count": null,
   "metadata": {},
   "outputs": [],
   "source": [
    "m.indptr"
   ]
  },
  {
   "cell_type": "code",
   "execution_count": null,
   "metadata": {},
   "outputs": [],
   "source": [
    "mrepr(m)"
   ]
  },
  {
   "cell_type": "code",
   "execution_count": null,
   "metadata": {},
   "outputs": [],
   "source": [
    "m.nnz"
   ]
  },
  {
   "cell_type": "code",
   "execution_count": null,
   "metadata": {},
   "outputs": [],
   "source": [
    "m.nonzero()"
   ]
  },
  {
   "cell_type": "code",
   "execution_count": null,
   "metadata": {},
   "outputs": [],
   "source": [
    "m.shape"
   ]
  },
  {
   "cell_type": "code",
   "execution_count": null,
   "metadata": {},
   "outputs": [],
   "source": [
    "type(m.indptr)"
   ]
  },
  {
   "cell_type": "code",
   "execution_count": null,
   "metadata": {},
   "outputs": [],
   "source": []
  },
  {
   "cell_type": "code",
   "execution_count": null,
   "metadata": {},
   "outputs": [],
   "source": []
  },
  {
   "cell_type": "code",
   "execution_count": null,
   "metadata": {},
   "outputs": [],
   "source": []
  },
  {
   "cell_type": "markdown",
   "metadata": {},
   "source": [
    "### Can we update sparse matrices without changing the shape?"
   ]
  },
  {
   "cell_type": "code",
   "execution_count": null,
   "metadata": {},
   "outputs": [],
   "source": [
    "m.data"
   ]
  },
  {
   "cell_type": "code",
   "execution_count": null,
   "metadata": {},
   "outputs": [],
   "source": [
    "m.data = np.array([2, 3, 8, 4, 1, 3, 3, 7, 1, 5, 7, 3, 2], dtype=np.int64)"
   ]
  },
  {
   "cell_type": "code",
   "execution_count": null,
   "metadata": {},
   "outputs": [],
   "source": [
    "m.data"
   ]
  },
  {
   "cell_type": "code",
   "execution_count": null,
   "metadata": {},
   "outputs": [],
   "source": [
    "m.indices"
   ]
  },
  {
   "cell_type": "code",
   "execution_count": null,
   "metadata": {},
   "outputs": [],
   "source": [
    "m.indices = np.array([1, 3, 4, 6, 5, 0, 2, 5, 2, 2, 3, 4, 5], dtype=np.int32)"
   ]
  },
  {
   "cell_type": "code",
   "execution_count": null,
   "metadata": {},
   "outputs": [],
   "source": [
    "m.indices"
   ]
  },
  {
   "cell_type": "code",
   "execution_count": null,
   "metadata": {},
   "outputs": [],
   "source": [
    "m.indptr"
   ]
  },
  {
   "cell_type": "code",
   "execution_count": null,
   "metadata": {},
   "outputs": [],
   "source": [
    "m.indptr = np.array([0, 2, 4, 5, 7, 8, 9, 13], dtype=np.int32)"
   ]
  },
  {
   "cell_type": "code",
   "execution_count": null,
   "metadata": {},
   "outputs": [],
   "source": [
    "m.indptr"
   ]
  },
  {
   "cell_type": "code",
   "execution_count": null,
   "metadata": {},
   "outputs": [],
   "source": [
    "m.toarray()"
   ]
  },
  {
   "cell_type": "code",
   "execution_count": null,
   "metadata": {},
   "outputs": [],
   "source": [
    "mrepr(m)"
   ]
  },
  {
   "cell_type": "code",
   "execution_count": null,
   "metadata": {},
   "outputs": [],
   "source": [
    "m.nnz"
   ]
  },
  {
   "cell_type": "code",
   "execution_count": null,
   "metadata": {},
   "outputs": [],
   "source": [
    "m.shape"
   ]
  },
  {
   "cell_type": "code",
   "execution_count": null,
   "metadata": {},
   "outputs": [],
   "source": []
  },
  {
   "cell_type": "markdown",
   "metadata": {},
   "source": [
    "### Use Numba to perform matrix multiplication with a semiring"
   ]
  },
  {
   "cell_type": "code",
   "execution_count": null,
   "metadata": {},
   "outputs": [],
   "source": [
    "@numba.njit\n",
    "def numba_plus(x, y):\n",
    "    return x + y\n",
    "\n",
    "\n",
    "@numba.njit\n",
    "def numba_times(x, y):\n",
    "    return x * y\n",
    "\n",
    "\n",
    "@numba.njit\n",
    "def numba_min(x, y):\n",
    "    return min(x, y)\n",
    "\n",
    "\n",
    "@numba.njit\n",
    "def numba_max(x, y):\n",
    "    return max(x, y)\n",
    "\n",
    "\n",
    "@numba.njit\n",
    "def numba_bnot(x):\n",
    "    return ~x"
   ]
  },
  {
   "cell_type": "code",
   "execution_count": null,
   "metadata": {},
   "outputs": [],
   "source": [
    "@numba.njit\n",
    "def mxm(C, A, B, semiring):\n",
    "    cr, cc = C.shape\n",
    "    ar, ac = A.shape\n",
    "    br, bc = B.shape\n",
    "    if cr != ar:\n",
    "        return -1\n",
    "    if cc != bc:\n",
    "        return -1\n",
    "    if ac != br:\n",
    "        return -1\n",
    "    plus, times, identity = semiring\n",
    "    for i in range(cr):\n",
    "        for j in range(cc):\n",
    "            val = identity\n",
    "            for k in range(ac):\n",
    "                val = plus(val, times(A[i, k], B[k, j]))\n",
    "            C[i, j] = val\n",
    "    return 0"
   ]
  },
  {
   "cell_type": "code",
   "execution_count": null,
   "metadata": {},
   "outputs": [],
   "source": [
    "A = np.array([[1, 2, 3], [4, 5, 6]])"
   ]
  },
  {
   "cell_type": "code",
   "execution_count": null,
   "metadata": {},
   "outputs": [],
   "source": [
    "B = np.array([[1], [5], [9]])"
   ]
  },
  {
   "cell_type": "code",
   "execution_count": null,
   "metadata": {},
   "outputs": [],
   "source": [
    "A"
   ]
  },
  {
   "cell_type": "code",
   "execution_count": null,
   "metadata": {},
   "outputs": [],
   "source": [
    "B"
   ]
  },
  {
   "cell_type": "code",
   "execution_count": null,
   "metadata": {},
   "outputs": [],
   "source": [
    "A.dot(B)"
   ]
  },
  {
   "cell_type": "code",
   "execution_count": null,
   "metadata": {},
   "outputs": [],
   "source": [
    "C = np.array([[1], [1]])"
   ]
  },
  {
   "cell_type": "code",
   "execution_count": null,
   "metadata": {},
   "outputs": [],
   "source": [
    "mxm(C, A, B, (numba_plus, numba_times, 0))"
   ]
  },
  {
   "cell_type": "code",
   "execution_count": null,
   "metadata": {},
   "outputs": [],
   "source": [
    "C"
   ]
  },
  {
   "cell_type": "code",
   "execution_count": null,
   "metadata": {},
   "outputs": [],
   "source": [
    "mxm(C, A, B, (numba_max, numba_plus, 0))\n",
    "C"
   ]
  },
  {
   "cell_type": "code",
   "execution_count": null,
   "metadata": {},
   "outputs": [],
   "source": [
    "mxm(C, A, B, (numba_min, numba_plus, np.iinfo(A.dtype).max))\n",
    "C"
   ]
  },
  {
   "cell_type": "code",
   "execution_count": null,
   "metadata": {},
   "outputs": [],
   "source": []
  },
  {
   "cell_type": "markdown",
   "metadata": {},
   "source": [
    "## Can we use sparse matrices?"
   ]
  },
  {
   "cell_type": "code",
   "execution_count": null,
   "metadata": {},
   "outputs": [],
   "source": [
    "v = coo_matrix(([0], ([0], [1])), shape=(1, 7)).tocsr()\n",
    "hrepr(v)"
   ]
  },
  {
   "cell_type": "code",
   "execution_count": null,
   "metadata": {},
   "outputs": [],
   "source": [
    "rows, cols, weights = data\n",
    "m = coo_matrix((weights, (rows, cols)), shape=(7, 7)).tocsr()\n",
    "mrepr(m)"
   ]
  },
  {
   "cell_type": "code",
   "execution_count": null,
   "metadata": {},
   "outputs": [],
   "source": [
    "C = coo_matrix(([], ([], [])), shape=(1, 7), dtype=np.int64).tocsr()"
   ]
  },
  {
   "cell_type": "code",
   "execution_count": null,
   "metadata": {},
   "outputs": [],
   "source": [
    "hrepr(C)"
   ]
  },
  {
   "cell_type": "code",
   "execution_count": null,
   "metadata": {},
   "outputs": [],
   "source": [
    "semiring = (numba_min, numba_plus, np.iinfo(A.dtype).max)\n",
    "mxm(C, v, m, semiring)"
   ]
  },
  {
   "cell_type": "code",
   "execution_count": 17,
   "metadata": {},
   "outputs": [],
   "source": [
    "def mxm(C, A, B, semiring):\n",
    "    cr, cc = C.shape\n",
    "    ar, ac = A.shape\n",
    "    br, bc = B.shape\n",
    "    if cr != ar:\n",
    "        return -1\n",
    "    if cc != bc:\n",
    "        return -1\n",
    "    if ac != br:\n",
    "        return -1\n",
    "    plus, times, identity = semiring\n",
    "    b = B.tocsc()\n",
    "    d, i, ip = _mxm(\n",
    "        A.data, A.indices, A.indptr, b.data, b.indices, b.indptr, plus, times, identity, C.dtype\n",
    "    )\n",
    "    C.data = d\n",
    "    C.indices = i\n",
    "    C.indptr = ip\n",
    "    return 0\n",
    "\n",
    "\n",
    "@numba.njit\n",
    "def _mxm(a_data, a_indices, a_indptr, b_data, b_indices, b_indptr, plus, times, identity, dtype):\n",
    "    # Final array size is unknown, so we give ourselves room and then adjust on the fly\n",
    "    tmp_output_size = a_data.size * 2\n",
    "    data = np.empty((tmp_output_size,), dtype=dtype)\n",
    "    indices = np.empty((tmp_output_size,), dtype=a_indices.dtype)\n",
    "    indptr = np.empty((a_indptr.size,), dtype=a_indptr.dtype)\n",
    "    output_counter = 0\n",
    "    for iptr in range(a_indptr.size - 1):\n",
    "        indptr[iptr] = output_counter\n",
    "        for jptr in range(b_indptr.size - 1):\n",
    "            a_counter = a_indptr[iptr]\n",
    "            a_stop = a_indptr[iptr + 1]\n",
    "            b_counter = b_indptr[jptr]\n",
    "            b_stop = b_indptr[jptr + 1]\n",
    "            val = identity\n",
    "            nonempty = False\n",
    "            while a_counter < a_stop and b_counter < b_stop:\n",
    "                a_k = a_indices[a_counter]\n",
    "                b_k = b_indices[b_counter]\n",
    "                if a_k == b_k:\n",
    "                    val = plus(val, times(a_data[a_counter], b_data[b_counter]))\n",
    "                    nonempty = True\n",
    "                    a_counter += 1\n",
    "                    b_counter += 1\n",
    "                elif a_k < b_k:\n",
    "                    a_counter += 1\n",
    "                else:\n",
    "                    b_counter += 1\n",
    "            if nonempty:\n",
    "                if output_counter >= tmp_output_size:\n",
    "                    # We filled up the allocated space; copy existing data to a larger array\n",
    "                    tmp_output_size *= 2\n",
    "                    new_data = np.empty((tmp_output_size,), dtype=data.dtype)\n",
    "                    new_indices = np.empty((tmp_output_size,), dtype=indices.dtype)\n",
    "                    new_data[:output_counter] = data[:output_counter]\n",
    "                    new_indices[:output_counter] = indices[:output_counter]\n",
    "                    data = new_data\n",
    "                    indices = new_indices\n",
    "                data[output_counter] = val\n",
    "                indices[output_counter] = jptr\n",
    "                output_counter += 1\n",
    "    # Add final entry to indptr (should indicate nnz in the output)\n",
    "    nnz = output_counter\n",
    "    indptr[iptr + 1] = nnz\n",
    "    # Trim output arrays\n",
    "    data = data[:nnz]\n",
    "    indices = indices[:nnz]\n",
    "\n",
    "    return (data, indices, indptr)"
   ]
  },
  {
   "cell_type": "code",
   "execution_count": null,
   "metadata": {},
   "outputs": [],
   "source": [
    "m.data"
   ]
  },
  {
   "cell_type": "code",
   "execution_count": null,
   "metadata": {},
   "outputs": [],
   "source": [
    "m.indices"
   ]
  },
  {
   "cell_type": "code",
   "execution_count": null,
   "metadata": {},
   "outputs": [],
   "source": [
    "m.indptr"
   ]
  },
  {
   "cell_type": "code",
   "execution_count": null,
   "metadata": {},
   "outputs": [],
   "source": [
    "mrepr(m)"
   ]
  },
  {
   "cell_type": "code",
   "execution_count": null,
   "metadata": {},
   "outputs": [],
   "source": []
  },
  {
   "cell_type": "code",
   "execution_count": null,
   "metadata": {},
   "outputs": [],
   "source": [
    "v"
   ]
  },
  {
   "cell_type": "code",
   "execution_count": null,
   "metadata": {},
   "outputs": [],
   "source": [
    "m"
   ]
  },
  {
   "cell_type": "code",
   "execution_count": null,
   "metadata": {},
   "outputs": [],
   "source": [
    "# Hmm, this is problematic. Apparently scipy.sparse considers empty to be zero when doing dot product.\n",
    "# It should have two non-empty elements, both of which have a value of 0.\n",
    "v.dot(m)"
   ]
  },
  {
   "cell_type": "code",
   "execution_count": null,
   "metadata": {},
   "outputs": [],
   "source": []
  },
  {
   "cell_type": "code",
   "execution_count": null,
   "metadata": {},
   "outputs": [],
   "source": []
  },
  {
   "cell_type": "code",
   "execution_count": 10,
   "metadata": {},
   "outputs": [
    {
     "data": {
      "text/html": [
       "<div>\n",
       "<style scoped>\n",
       "    .dataframe tbody tr th:only-of-type {\n",
       "        vertical-align: middle;\n",
       "    }\n",
       "\n",
       "    .dataframe tbody tr th {\n",
       "        vertical-align: top;\n",
       "    }\n",
       "\n",
       "    .dataframe thead th {\n",
       "        text-align: right;\n",
       "    }\n",
       "</style>\n",
       "<table border=\"1\" class=\"dataframe\">\n",
       "  <thead>\n",
       "    <tr style=\"text-align: right;\">\n",
       "      <th></th>\n",
       "      <th>0</th>\n",
       "      <th>1</th>\n",
       "      <th>2</th>\n",
       "    </tr>\n",
       "  </thead>\n",
       "  <tbody>\n",
       "    <tr>\n",
       "      <th>0</th>\n",
       "      <td>1</td>\n",
       "      <td></td>\n",
       "      <td>3</td>\n",
       "    </tr>\n",
       "    <tr>\n",
       "      <th>1</th>\n",
       "      <td></td>\n",
       "      <td>5</td>\n",
       "      <td>6</td>\n",
       "    </tr>\n",
       "  </tbody>\n",
       "</table>\n",
       "</div>"
      ],
      "text/plain": [
       "   0  1  2\n",
       "0  1     3\n",
       "1     5  6"
      ]
     },
     "execution_count": 10,
     "metadata": {},
     "output_type": "execute_result"
    }
   ],
   "source": [
    "A = coo_matrix(([1, 3, 5, 6], ([0, 0, 1, 1], [0, 2, 1, 2])), shape=(2, 3)).tocsr()\n",
    "mrepr(A)"
   ]
  },
  {
   "cell_type": "code",
   "execution_count": 11,
   "metadata": {},
   "outputs": [
    {
     "data": {
      "text/html": [
       "<div>\n",
       "<style scoped>\n",
       "    .dataframe tbody tr th:only-of-type {\n",
       "        vertical-align: middle;\n",
       "    }\n",
       "\n",
       "    .dataframe tbody tr th {\n",
       "        vertical-align: top;\n",
       "    }\n",
       "\n",
       "    .dataframe thead th {\n",
       "        text-align: right;\n",
       "    }\n",
       "</style>\n",
       "<table border=\"1\" class=\"dataframe\">\n",
       "  <thead>\n",
       "    <tr style=\"text-align: right;\">\n",
       "      <th></th>\n",
       "      <th>0</th>\n",
       "      <th>1</th>\n",
       "    </tr>\n",
       "  </thead>\n",
       "  <tbody>\n",
       "    <tr>\n",
       "      <th>0</th>\n",
       "      <td>1</td>\n",
       "      <td></td>\n",
       "    </tr>\n",
       "    <tr>\n",
       "      <th>1</th>\n",
       "      <td>5</td>\n",
       "      <td></td>\n",
       "    </tr>\n",
       "    <tr>\n",
       "      <th>2</th>\n",
       "      <td></td>\n",
       "      <td>7</td>\n",
       "    </tr>\n",
       "  </tbody>\n",
       "</table>\n",
       "</div>"
      ],
      "text/plain": [
       "   0  1\n",
       "0  1   \n",
       "1  5   \n",
       "2     7"
      ]
     },
     "execution_count": 11,
     "metadata": {},
     "output_type": "execute_result"
    }
   ],
   "source": [
    "B = coo_matrix(([1, 5, 7], ([0, 1, 2], [0, 0, 1])), shape=(3, 2)).tocsr()\n",
    "b = B.tocsc()\n",
    "mrepr(B)"
   ]
  },
  {
   "cell_type": "code",
   "execution_count": 12,
   "metadata": {},
   "outputs": [
    {
     "data": {
      "text/html": [
       "<div>\n",
       "<style scoped>\n",
       "    .dataframe tbody tr th:only-of-type {\n",
       "        vertical-align: middle;\n",
       "    }\n",
       "\n",
       "    .dataframe tbody tr th {\n",
       "        vertical-align: top;\n",
       "    }\n",
       "\n",
       "    .dataframe thead th {\n",
       "        text-align: right;\n",
       "    }\n",
       "</style>\n",
       "<table border=\"1\" class=\"dataframe\">\n",
       "  <thead>\n",
       "    <tr style=\"text-align: right;\">\n",
       "      <th></th>\n",
       "      <th>0</th>\n",
       "      <th>1</th>\n",
       "    </tr>\n",
       "  </thead>\n",
       "  <tbody>\n",
       "    <tr>\n",
       "      <th>0</th>\n",
       "      <td></td>\n",
       "      <td></td>\n",
       "    </tr>\n",
       "    <tr>\n",
       "      <th>1</th>\n",
       "      <td></td>\n",
       "      <td></td>\n",
       "    </tr>\n",
       "  </tbody>\n",
       "</table>\n",
       "</div>"
      ],
      "text/plain": [
       "  0 1\n",
       "0    \n",
       "1    "
      ]
     },
     "execution_count": 12,
     "metadata": {},
     "output_type": "execute_result"
    }
   ],
   "source": [
    "C = coo_matrix(([], ([], [])), shape=(2, 2), dtype=np.int64).tocsr()\n",
    "mrepr(C)"
   ]
  },
  {
   "cell_type": "code",
   "execution_count": 18,
   "metadata": {},
   "outputs": [
    {
     "data": {
      "text/plain": [
       "0"
      ]
     },
     "execution_count": 18,
     "metadata": {},
     "output_type": "execute_result"
    }
   ],
   "source": [
    "mxm(C, A, B, (plus, times, 0))"
   ]
  },
  {
   "cell_type": "code",
   "execution_count": 19,
   "metadata": {},
   "outputs": [
    {
     "data": {
      "text/plain": [
       "array([1, 3, 5, 6], dtype=int64)"
      ]
     },
     "execution_count": 19,
     "metadata": {},
     "output_type": "execute_result"
    }
   ],
   "source": [
    "A.data"
   ]
  },
  {
   "cell_type": "code",
   "execution_count": 20,
   "metadata": {},
   "outputs": [
    {
     "data": {
      "text/plain": [
       "array([0, 2, 1, 2], dtype=int32)"
      ]
     },
     "execution_count": 20,
     "metadata": {},
     "output_type": "execute_result"
    }
   ],
   "source": [
    "A.indices"
   ]
  },
  {
   "cell_type": "code",
   "execution_count": 21,
   "metadata": {},
   "outputs": [
    {
     "data": {
      "text/plain": [
       "array([0, 2, 4], dtype=int32)"
      ]
     },
     "execution_count": 21,
     "metadata": {},
     "output_type": "execute_result"
    }
   ],
   "source": [
    "A.indptr"
   ]
  },
  {
   "cell_type": "code",
   "execution_count": null,
   "metadata": {},
   "outputs": [],
   "source": []
  },
  {
   "cell_type": "code",
   "execution_count": 22,
   "metadata": {},
   "outputs": [
    {
     "data": {
      "text/plain": [
       "array([1, 5, 7], dtype=int64)"
      ]
     },
     "execution_count": 22,
     "metadata": {},
     "output_type": "execute_result"
    }
   ],
   "source": [
    "b.data"
   ]
  },
  {
   "cell_type": "code",
   "execution_count": 23,
   "metadata": {},
   "outputs": [
    {
     "data": {
      "text/plain": [
       "array([0, 1, 2], dtype=int32)"
      ]
     },
     "execution_count": 23,
     "metadata": {},
     "output_type": "execute_result"
    }
   ],
   "source": [
    "b.indices"
   ]
  },
  {
   "cell_type": "code",
   "execution_count": 24,
   "metadata": {},
   "outputs": [
    {
     "data": {
      "text/plain": [
       "array([0, 2, 3], dtype=int32)"
      ]
     },
     "execution_count": 24,
     "metadata": {},
     "output_type": "execute_result"
    }
   ],
   "source": [
    "b.indptr"
   ]
  },
  {
   "cell_type": "code",
   "execution_count": null,
   "metadata": {},
   "outputs": [],
   "source": []
  },
  {
   "cell_type": "code",
   "execution_count": 25,
   "metadata": {},
   "outputs": [
    {
     "data": {
      "text/plain": [
       "array([ 1, 21, 25, 42])"
      ]
     },
     "execution_count": 25,
     "metadata": {},
     "output_type": "execute_result"
    }
   ],
   "source": [
    "C.data"
   ]
  },
  {
   "cell_type": "code",
   "execution_count": 26,
   "metadata": {},
   "outputs": [
    {
     "data": {
      "text/plain": [
       "array([0, 1, 0, 1], dtype=int32)"
      ]
     },
     "execution_count": 26,
     "metadata": {},
     "output_type": "execute_result"
    }
   ],
   "source": [
    "C.indices"
   ]
  },
  {
   "cell_type": "code",
   "execution_count": 27,
   "metadata": {},
   "outputs": [
    {
     "data": {
      "text/plain": [
       "array([0, 2, 4], dtype=int32)"
      ]
     },
     "execution_count": 27,
     "metadata": {},
     "output_type": "execute_result"
    }
   ],
   "source": [
    "C.indptr"
   ]
  },
  {
   "cell_type": "code",
   "execution_count": null,
   "metadata": {},
   "outputs": [],
   "source": [
    "mrepr(C)"
   ]
  },
  {
   "cell_type": "code",
   "execution_count": null,
   "metadata": {},
   "outputs": [],
   "source": [
    "np.empty((1,), np.uint)"
   ]
  },
  {
   "cell_type": "code",
   "execution_count": null,
   "metadata": {},
   "outputs": [],
   "source": [
    "_318[0] = 1"
   ]
  },
  {
   "cell_type": "code",
   "execution_count": null,
   "metadata": {},
   "outputs": [],
   "source": [
    "_318[0]"
   ]
  },
  {
   "cell_type": "code",
   "execution_count": null,
   "metadata": {},
   "outputs": [],
   "source": [
    "type(np.uint) is type"
   ]
  },
  {
   "cell_type": "code",
   "execution_count": null,
   "metadata": {},
   "outputs": [],
   "source": [
    "type(float) is type"
   ]
  },
  {
   "cell_type": "code",
   "execution_count": null,
   "metadata": {},
   "outputs": [],
   "source": [
    "class Matrix:\n",
    "    pass"
   ]
  },
  {
   "cell_type": "code",
   "execution_count": null,
   "metadata": {},
   "outputs": [],
   "source": [
    "type(Matrix) is type"
   ]
  },
  {
   "cell_type": "code",
   "execution_count": null,
   "metadata": {},
   "outputs": [],
   "source": [
    "np.dtype(Matrix)"
   ]
  },
  {
   "cell_type": "code",
   "execution_count": null,
   "metadata": {},
   "outputs": [],
   "source": [
    "_333 == object"
   ]
  },
  {
   "cell_type": "code",
   "execution_count": null,
   "metadata": {},
   "outputs": [],
   "source": [
    "np.dtype(np.bool)"
   ]
  },
  {
   "cell_type": "code",
   "execution_count": null,
   "metadata": {},
   "outputs": [],
   "source": [
    "_340 == object"
   ]
  },
  {
   "cell_type": "code",
   "execution_count": null,
   "metadata": {},
   "outputs": [],
   "source": [
    "x = scipy.sparse.csr_matrix((4, 3), dtype=np.int32)\n",
    "y = csr_matrix(([7], ([0], [0])), shape=(4, 3), dtype=np.int32)\n",
    "z = csr_matrix(y)"
   ]
  },
  {
   "cell_type": "code",
   "execution_count": null,
   "metadata": {},
   "outputs": [],
   "source": [
    "z is y"
   ]
  },
  {
   "cell_type": "code",
   "execution_count": null,
   "metadata": {},
   "outputs": [],
   "source": [
    "z.data is y.data"
   ]
  },
  {
   "cell_type": "code",
   "execution_count": null,
   "metadata": {},
   "outputs": [],
   "source": [
    "z[0, 1] = 12"
   ]
  },
  {
   "cell_type": "code",
   "execution_count": null,
   "metadata": {},
   "outputs": [],
   "source": [
    "z.toarray()"
   ]
  },
  {
   "cell_type": "code",
   "execution_count": null,
   "metadata": {},
   "outputs": [],
   "source": [
    "y.toarray()"
   ]
  },
  {
   "cell_type": "code",
   "execution_count": null,
   "metadata": {},
   "outputs": [],
   "source": [
    "z.resize((12, 1))"
   ]
  },
  {
   "cell_type": "code",
   "execution_count": null,
   "metadata": {},
   "outputs": [],
   "source": [
    "z.toarray()"
   ]
  },
  {
   "cell_type": "code",
   "execution_count": null,
   "metadata": {},
   "outputs": [],
   "source": [
    "not True"
   ]
  },
  {
   "cell_type": "code",
   "execution_count": null,
   "metadata": {},
   "outputs": [],
   "source": [
    "not (True ^ True)"
   ]
  },
  {
   "cell_type": "code",
   "execution_count": null,
   "metadata": {},
   "outputs": [],
   "source": [
    "~(5 ^ 2)"
   ]
  },
  {
   "cell_type": "code",
   "execution_count": null,
   "metadata": {},
   "outputs": [],
   "source": []
  },
  {
   "cell_type": "code",
   "execution_count": null,
   "metadata": {},
   "outputs": [],
   "source": [
    "5 // 2"
   ]
  },
  {
   "cell_type": "code",
   "execution_count": 14,
   "metadata": {},
   "outputs": [],
   "source": [
    "from numba import types as nt\n",
    "from numba import njit\n",
    "\n",
    "# Most operations with semirings will require numba\n",
    "# Even if an equivalent function exists in numpy or scipy, numba\n",
    "# doesn't seem to like it as much as a jit'd function doing the same thing\n",
    "\n",
    "_unary_bool = [nt.boolean(nt.boolean)]\n",
    "_unary_int = [\n",
    "    nt.uint8(nt.uint8),\n",
    "    nt.int8(nt.int8),\n",
    "    nt.uint16(nt.uint16),\n",
    "    nt.int16(nt.int16),\n",
    "    nt.uint32(nt.uint32),\n",
    "    nt.int32(nt.int32),\n",
    "    nt.uint64(nt.uint64),\n",
    "    nt.int64(nt.int64),\n",
    "]\n",
    "_unary_float = [nt.float32(nt.float32), nt.float64(nt.float64)]\n",
    "_unary_all = _unary_bool + _unary_int + _unary_float\n",
    "\n",
    "_binary_bool = [nt.boolean(nt.boolean, nt.boolean)]\n",
    "_binary_int = [\n",
    "    nt.uint8(nt.uint8, nt.uint8),\n",
    "    nt.int8(nt.int8, nt.int8),\n",
    "    nt.uint16(nt.uint16, nt.uint16),\n",
    "    nt.int16(nt.int16, nt.int16),\n",
    "    nt.uint32(nt.uint32, nt.uint32),\n",
    "    nt.int32(nt.int32, nt.int32),\n",
    "    nt.uint64(nt.uint64, nt.uint64),\n",
    "    nt.int64(nt.int64, nt.int64),\n",
    "]\n",
    "_binary_float = [nt.float32(nt.float32, nt.float32), nt.float64(nt.float64, nt.float64)]\n",
    "_binary_all = _binary_bool + _binary_int + _binary_float\n",
    "\n",
    "_binary_int_to_bool = [\n",
    "    nt.boolean(nt.uint8, nt.uint8),\n",
    "    nt.boolean(nt.int8, nt.int8),\n",
    "    nt.boolean(nt.uint16, nt.uint16),\n",
    "    nt.boolean(nt.int16, nt.int16),\n",
    "    nt.boolean(nt.uint32, nt.uint32),\n",
    "    nt.boolean(nt.int32, nt.int32),\n",
    "    nt.boolean(nt.uint64, nt.uint64),\n",
    "    nt.boolean(nt.int64, nt.int64),\n",
    "]\n",
    "_binary_float_to_bool = [nt.boolean(nt.float32, nt.float32), nt.boolean(nt.float64, nt.float64)]\n",
    "_binary_all_to_bool = _binary_bool + _binary_int_to_bool + _binary_float_to_bool\n",
    "\n",
    "\n",
    "#################\n",
    "# Unary Operators\n",
    "#################\n",
    "\n",
    "\n",
    "@njit(_unary_all)\n",
    "def identity(x):\n",
    "    \"\"\"Identity\"\"\"\n",
    "    return x\n",
    "\n",
    "\n",
    "@njit(_unary_all)\n",
    "def abs(x):\n",
    "    \"\"\"Absolute value\"\"\"\n",
    "    return abs(x)\n",
    "\n",
    "\n",
    "@njit(_unary_int + _unary_float)\n",
    "def ainv(x):\n",
    "    \"\"\"Additive inverse\"\"\"\n",
    "    return -x\n",
    "\n",
    "\n",
    "@njit(_unary_float)\n",
    "def minv(x):\n",
    "    \"\"\"Multiplicative inverse\"\"\"\n",
    "    return 1 / x\n",
    "\n",
    "\n",
    "@njit(_unary_bool)\n",
    "def lnot(x):\n",
    "    \"\"\"Logical inverse\"\"\"\n",
    "    return not x\n",
    "\n",
    "\n",
    "@njit(_unary_int)\n",
    "def bnot(x):\n",
    "    \"\"\"Bitwise complement\"\"\"\n",
    "    return ~x\n",
    "\n",
    "\n",
    "##################\n",
    "# Binary Operators\n",
    "##################\n",
    "\n",
    "\n",
    "@njit(_binary_bool)\n",
    "def lor(x, y):\n",
    "    \"\"\"Logical OR\"\"\"\n",
    "    return x | y\n",
    "\n",
    "\n",
    "@njit(_binary_bool)\n",
    "def land(x, y):\n",
    "    \"\"\"Logical AND\"\"\"\n",
    "    return x & y\n",
    "\n",
    "\n",
    "@njit(_binary_bool)\n",
    "def lxor(x, y):\n",
    "    \"\"\"Logical XOR\"\"\"\n",
    "    return x ^ y\n",
    "\n",
    "\n",
    "@njit(_binary_bool)\n",
    "def lxnor(x, y):\n",
    "    \"\"\"Logical XNOR\"\"\"\n",
    "    return not (x ^ y)\n",
    "\n",
    "\n",
    "@njit(_binary_int)\n",
    "def bor(x, y):\n",
    "    \"\"\"Bitwise OR\"\"\"\n",
    "    return x | y\n",
    "\n",
    "\n",
    "@njit(_binary_int)\n",
    "def band(x, y):\n",
    "    \"\"\"Bitwise AND\"\"\"\n",
    "    return x & y\n",
    "\n",
    "\n",
    "@njit(_binary_int)\n",
    "def bxor(x, y):\n",
    "    \"\"\"Bitwise XOR\"\"\"\n",
    "    return x ^ y\n",
    "\n",
    "\n",
    "@njit(_binary_int)\n",
    "def bxnor(x, y):\n",
    "    \"\"\"Bitwise XNOR\"\"\"\n",
    "    return ~(x ^ y)\n",
    "\n",
    "\n",
    "@njit(_binary_all_to_bool)\n",
    "def eq(x, y):\n",
    "    \"\"\"Equal\"\"\"\n",
    "    return x == y\n",
    "\n",
    "\n",
    "@njit(_binary_all_to_bool)\n",
    "def ne(x, y):\n",
    "    \"\"\"Not equal\"\"\"\n",
    "    return x != y\n",
    "\n",
    "\n",
    "@njit(_binary_all_to_bool)\n",
    "def gt(x, y):\n",
    "    \"\"\"Greater than\"\"\"\n",
    "    return x > y\n",
    "\n",
    "\n",
    "@njit(_binary_all_to_bool)\n",
    "def lt(x, y):\n",
    "    \"\"\"Less than\"\"\"\n",
    "    return x < y\n",
    "\n",
    "\n",
    "@njit(_binary_all_to_bool)\n",
    "def ge(x, y):\n",
    "    \"\"\"Greater than or equal\"\"\"\n",
    "    return x >= y\n",
    "\n",
    "\n",
    "@njit(_binary_all_to_bool)\n",
    "def le(x, y):\n",
    "    \"\"\"Less than or equal\"\"\"\n",
    "    return x <= y\n",
    "\n",
    "\n",
    "@njit(_binary_all)\n",
    "def first(x, y):\n",
    "    \"\"\"First argument\"\"\"\n",
    "    return x\n",
    "\n",
    "\n",
    "@njit(_binary_all)\n",
    "def second(x, y):\n",
    "    \"\"\"Second argument\"\"\"\n",
    "    return y\n",
    "\n",
    "\n",
    "@njit(_binary_int + _binary_float)\n",
    "def min(x, y):\n",
    "    \"\"\"Minimum\"\"\"\n",
    "    return min(x, y)\n",
    "\n",
    "\n",
    "@njit(_binary_int + _binary_float)\n",
    "def max(x, y):\n",
    "    \"\"\"Maximum\"\"\"\n",
    "    return max(x, y)\n",
    "\n",
    "\n",
    "@njit(_binary_int + _binary_float)\n",
    "def plus(x, y):\n",
    "    \"\"\"Addition\"\"\"\n",
    "    return x + y\n",
    "\n",
    "\n",
    "@njit(_binary_int + _binary_float)\n",
    "def minus(x, y):\n",
    "    \"\"\"Subtraction\"\"\"\n",
    "    return x - y\n",
    "\n",
    "\n",
    "@njit(_binary_int + _binary_float)\n",
    "def times(x, y):\n",
    "    \"\"\"Multiplication\"\"\"\n",
    "    return x * y\n",
    "\n",
    "\n",
    "@njit(_binary_int)\n",
    "def floordiv(x, y):\n",
    "    \"\"\"Integer division (ex. 5/4=1)\"\"\"\n",
    "    return x // y\n",
    "\n",
    "\n",
    "@njit(_binary_float)\n",
    "def truediv(x, y):\n",
    "    \"\"\"Float division (ex. 5/4=1.25)\"\"\"\n",
    "    return x / y\n",
    "\n",
    "\n",
    "@njit(_binary_int + _binary_float)\n",
    "def div(x, y):\n",
    "    return x / y"
   ]
  },
  {
   "cell_type": "code",
   "execution_count": null,
   "metadata": {},
   "outputs": [],
   "source": []
  },
  {
   "cell_type": "code",
   "execution_count": 1,
   "metadata": {},
   "outputs": [
    {
     "name": "stdout",
     "output_type": "stream",
     "text": [
      "/Users/jkitchen/Projects/HIVE/grblas/grblas/backends\n"
     ]
    }
   ],
   "source": [
    "cd .."
   ]
  },
  {
   "cell_type": "code",
   "execution_count": 2,
   "metadata": {},
   "outputs": [],
   "source": [
    "import python as py"
   ]
  },
  {
   "cell_type": "code",
   "execution_count": 5,
   "metadata": {},
   "outputs": [
    {
     "data": {
      "text/plain": [
       "False"
      ]
     },
     "execution_count": 5,
     "metadata": {},
     "output_type": "execute_result"
    }
   ],
   "source": [
    "py.GrB_BinaryOp.GrB_LXOR(False, False)"
   ]
  },
  {
   "cell_type": "code",
   "execution_count": null,
   "metadata": {},
   "outputs": [],
   "source": []
  }
 ],
 "metadata": {
  "kernelspec": {
   "display_name": "Python 3",
   "language": "python",
   "name": "python3"
  },
  "language_info": {
   "codemirror_mode": {
    "name": "ipython",
    "version": 3
   },
   "file_extension": ".py",
   "mimetype": "text/x-python",
   "name": "python",
   "nbconvert_exporter": "python",
   "pygments_lexer": "ipython3",
   "version": "3.7.4"
  }
 },
 "nbformat": 4,
 "nbformat_minor": 4
}
